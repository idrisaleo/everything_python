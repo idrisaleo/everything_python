{
 "cells": [
  {
   "cell_type": "code",
   "execution_count": 32,
   "id": "d65486d3",
   "metadata": {},
   "outputs": [
    {
     "name": "stdout",
     "output_type": "stream",
     "text": [
      "[0.0, 0.2, 0.4, 0.6, 0.8, 1.0, 1.2, 1.4, 1.6, 1.8, 2.0, 2.2, 2.4, 2.6, 2.8, 3.0, 3.2, 3.4, 3.6, 3.8, 4.0, 4.2, 4.4, 4.6, 4.8, 5.0, 5.2, 5.4, 5.6, 5.8, 6.0, 6.2, 6.4, 6.6, 6.8, 7.0, 7.2, 7.4, 7.6, 7.8, 8.0, 8.2, 8.4, 8.6, 8.8, 9.0, 9.2, 9.4, 9.6, 9.8, 10.0, 10.2, 10.4, 10.6, 10.8, 11.0, 11.2, 11.4, 11.6, 11.8, 12.0, 12.2, 12.4, 12.6, 12.8, 13.0, 13.2, 13.4, 13.6, 13.8, 14.0, 14.2, 14.4, 14.6, 14.8, 15.0, 15.2, 15.4, 15.6, 15.8, 16.0, 16.2, 16.4, 16.6, 16.8, 17.0, 17.2, 17.4, 17.6, 17.8, 18.0, 18.2, 18.4, 18.6, 18.8, 19.0, 19.2, 19.4, 19.6, 19.8]\n"
     ]
    }
   ],
   "source": [
    "calories = range(100)\n",
    "def amazing_list(item):\n",
    "    return item/5\n",
    "\n",
    "print(list(map(amazing_list, calories))) # function, iterable(i.e list). map whatever info you want.\n",
    "    "
   ]
  },
  {
   "cell_type": "code",
   "execution_count": 58,
   "id": "3743c0b9",
   "metadata": {},
   "outputs": [
    {
     "name": "stdout",
     "output_type": "stream",
     "text": [
      "[0, 1, 2, 3, 4, 5, 6, 7, 8, 9, 10, 11, 12, 13, 14, 15, 16, 17, 18, 19, 20, 21, 22, 23, 24, 25, 26, 27, 28, 29]\n"
     ]
    }
   ],
   "source": [
    "num_days = range(32)\n",
    "\n",
    "def month(item):\n",
    "    return item < 30\n",
    "        \n",
    "    \n",
    "print(list(filter(month, num_days))) # function, iterable(i.e list). filter for whatever your condition stipulates \n"
   ]
  },
  {
   "cell_type": "code",
   "execution_count": 65,
   "id": "4daad5e3",
   "metadata": {},
   "outputs": [
    {
     "name": "stdout",
     "output_type": "stream",
     "text": [
      "100 1\n",
      "101 2\n",
      "103 3\n",
      "106 4\n",
      "110 5\n",
      "115\n"
     ]
    }
   ],
   "source": [
    "my_list = [1,2,3,4,5]\n",
    "\n",
    "def uniting_values(da_accumulator, da_values):\n",
    "    print (da_accumulator, da_values)\n",
    "    return da_accumulator + da_values\n",
    "\n",
    "from functools import reduce ## how to import reduce\n",
    "\n",
    "print(reduce(uniting_values, my_list, 100)) #function, iterable, and accumulator value you decide. \n",
    "\n"
   ]
  },
  {
   "cell_type": "code",
   "execution_count": 78,
   "id": "a5c58ae0",
   "metadata": {},
   "outputs": [
    {
     "name": "stdout",
     "output_type": "stream",
     "text": [
      "20 23\n",
      "43 109\n",
      "152 7\n",
      "159 32\n",
      "191\n"
     ]
    }
   ],
   "source": [
    "cart = [23, 109, 7, 32]\n",
    "\n",
    "def shopping_cost(budget, extra):\n",
    "    print (budget, extra)\n",
    "    return budget + extra\n",
    "\n",
    "\n",
    "print(reduce(shopping_cost, cart, 20))"
   ]
  },
  {
   "cell_type": "code",
   "execution_count": 76,
   "id": "1405d45e",
   "metadata": {},
   "outputs": [
    {
     "name": "stdout",
     "output_type": "stream",
     "text": [
      "[(1, 2, 5), (3, 3, 6), (4, 4, 7), (6, 5, 8)]\n"
     ]
    }
   ],
   "source": [
    "list1 = [1,3,4,6]\n",
    "list2 = [2,3,4,5]\n",
    "list3 = [5,6,7,8]\n",
    "\n",
    "def mix_list(item):\n",
    "    return item\n",
    "\n",
    "print(list(zip(list1, list2, list3))) # just include only the iterable, and return in your function"
   ]
  },
  {
   "cell_type": "code",
   "execution_count": 114,
   "id": "a23bb579",
   "metadata": {
    "scrolled": false
   },
   "outputs": [
    {
     "name": "stdout",
     "output_type": "stream",
     "text": [
      "['Sisi', 'Bibi', 'Titi', 'Carla']\n",
      "[('a', 1), ('b', 2), ('c', 3), ('d', 4), ('e', 5)]\n",
      "[73, 65, 76, 100, 88]\n"
     ]
    }
   ],
   "source": [
    "\n",
    "\n",
    "#1 Capitalize all of the pet names and print the list\n",
    "my_pets = ['sisi', 'bibi', 'titi', 'carla']\n",
    "\n",
    "def pet_capital(item):\n",
    "    return item.capitalize()\n",
    "\n",
    "print(list(map(pet_capital, my_pets)))\n",
    "\n",
    "\n",
    "#2 Zip the 2 lists into a list of tuples, but sort the numbers from lowest to highest.\n",
    "my_strings = ['a', 'b', 'c', 'd', 'e']\n",
    "my_numbers = [5,4,3,2,1]\n",
    "my_numbers.sort()\n",
    "\n",
    "\n",
    "def arrange(item):\n",
    "    return item\n",
    "\n",
    "\n",
    "print(list(zip(my_strings, my_numbers)))\n",
    "\n",
    "#3 Filter the scores that pass over 50%\n",
    "scores = [73, 20, 65, 19, 76, 100, 88]\n",
    "\n",
    "def excellent(item):\n",
    "    if item > 50:\n",
    "        return item\n",
    "    \n",
    "print(list(filter(excellent, scores)))\n",
    "\n",
    "\n",
    "#4 Combine all of the numbers that are in a list on this file using reduce (my_numbers and scores). What is the total?\n",
    "\n",
    "my_numbers = [5,4,3,2,1]\n",
    "scores = [73, 20, 65, 19, 76, 100, 88]\n",
    "\n",
    "\n",
    "\n",
    "def combine(my_number, score):\n",
    "    from functools import reduce\n",
    "    \n",
    "\n",
    "\n",
    "    \n",
    "\n"
   ]
  },
  {
   "cell_type": "code",
   "execution_count": 126,
   "id": "610a1039",
   "metadata": {},
   "outputs": [
    {
     "name": "stdout",
     "output_type": "stream",
     "text": [
      "9\n",
      "12\n",
      "14\n",
      "15\n",
      "88\n",
      "108\n",
      "173\n",
      "192\n",
      "268\n",
      "368\n",
      "456\n",
      "456\n"
     ]
    }
   ],
   "source": [
    "## I know i can easily parse in two different lists with a comma.\n",
    "## And that I dont need to include accumulator, its default set as zero\n",
    "\n",
    "my_numbers = [5,4,3,2,1]\n",
    "scores = [73, 20, 65, 19, 76, 100, 88]\n",
    "\n",
    "from functools import reduce\n",
    "\n",
    "def combine(acc, item):\n",
    "    print(acc + item)\n",
    "    return acc + item\n",
    "\n",
    "print(reduce(combine, (my_numbers + scores))) "
   ]
  },
  {
   "cell_type": "code",
   "execution_count": 130,
   "id": "b9562587",
   "metadata": {},
   "outputs": [
    {
     "name": "stdout",
     "output_type": "stream",
     "text": [
      "[('a', 1), ('b', 4), ('c', 5), ('d', 13), ('e', 72)]\n"
     ]
    }
   ],
   "source": [
    "my_strings = ['a', 'b', 'c', 'd', 'e']\n",
    "my_numbers = [5,4,13,72,1]\n",
    "\n",
    "print(list(zip(my_strings, sorted(my_numbers))))"
   ]
  },
  {
   "cell_type": "code",
   "execution_count": 134,
   "id": "696f1104",
   "metadata": {},
   "outputs": [
    {
     "name": "stdout",
     "output_type": "stream",
     "text": [
      "[25, 16, 9]\n"
     ]
    }
   ],
   "source": [
    "## Lambda Expression: good when you intend to use a function once. And they are anonymous as well.\n",
    "\n",
    "lambda param: action(param) ## i.e we define our parameter and we run an action on it.\n",
    "\n",
    "my_list = [5,4,3]\n",
    "\n",
    "print(list(map(lambda item: item**2, my_list)))"
   ]
  },
  {
   "cell_type": "code",
   "execution_count": 182,
   "id": "a3165fd2",
   "metadata": {},
   "outputs": [
    {
     "name": "stdout",
     "output_type": "stream",
     "text": [
      "[(10, -1), (0, 2), (4, 3), (9, 9)]\n"
     ]
    }
   ],
   "source": [
    "## sort with lambda func\n",
    "a = [(0,2), (4,3), (9,9), (10, -1)]\n",
    "\n",
    "a.sort(key = lambda k: k[1])\n",
    "print(a)\n"
   ]
  },
  {
   "cell_type": "code",
   "execution_count": 185,
   "id": "ef6fb2bf",
   "metadata": {},
   "outputs": [
    {
     "name": "stdout",
     "output_type": "stream",
     "text": [
      "[(10, -1), (0, 2), (4, 3), (9, 9)]\n"
     ]
    }
   ],
   "source": [
    "a = [(0,2), (4,3), (9,9), (10, -1)]\n",
    "\n",
    "def useful(pick):\n",
    "    return pick[1]\n",
    "\n",
    "\n",
    "a.sort(key = useful)\n",
    "print(a)"
   ]
  },
  {
   "cell_type": "code",
   "execution_count": 205,
   "id": "d3795fcb",
   "metadata": {},
   "outputs": [
    {
     "name": "stdout",
     "output_type": "stream",
     "text": [
      "[{'name': 'bayo', 'age': 26, 'salary': 1500}, {'name': 'nkunku', 'age': 19, 'salary': 1800}, {'name': 'sterling', 'age': 21, 'salary': 2300}]\n"
     ]
    }
   ],
   "source": [
    "employee = [{'name':'bayo', 'age': 26, 'salary': 1500},\n",
    "            {'name':'sterling', 'age': 21, 'salary': 2300},\n",
    "            {'name':'nkunku', 'age': 19, 'salary': 1800}\n",
    "           ]\n",
    "\n",
    "\n",
    "def select(one):\n",
    "    return one.get('salary') ## using get and a function to sort\n",
    "\n",
    "employee.sort(key = select)\n",
    "\n",
    "\n",
    "employee.sort(key = lambda k: k.get('name')) ## using lambda to sort and get\n",
    "\n",
    "print(employee)\n",
    "\n",
    "\n"
   ]
  },
  {
   "cell_type": "code",
   "execution_count": 255,
   "id": "0aa482ca",
   "metadata": {},
   "outputs": [
    {
     "name": "stdout",
     "output_type": "stream",
     "text": [
      "[(1, 2), (2, 3), (3, 4)]\n",
      "<function <lambda> at 0x00000252D3C391F0> [1, 2, 3]\n"
     ]
    }
   ],
   "source": [
    "my_list = [1,2,3]\n",
    "your_list = [2,3,4]\n",
    "\n",
    "print(list(zip(my_list, your_list)))\n",
    "\n",
    "print(lambda acc, item: acc+item, my_list) \n",
    "\n",
    "\n",
    "\n",
    "\n",
    "\n",
    "\n",
    "\n",
    "\n",
    "\n",
    "\n",
    "\n",
    "\n"
   ]
  },
  {
   "cell_type": "code",
   "execution_count": 264,
   "id": "fa7f1b8d",
   "metadata": {},
   "outputs": [
    {
     "name": "stdout",
     "output_type": "stream",
     "text": [
      "[(0, 2), (1, 2), (4, 4), (9, 3), (10, -1), (14, 3)]\n"
     ]
    }
   ],
   "source": [
    "a = [(0,2), (4,4), (9,3), (10, -1), (14, 3), (1, 2)]\n",
    "\n",
    "a.sort()\n",
    "\n",
    "def sorting(item):\n",
    "    return item[1]\n",
    "\n",
    "a.sort(key = sorting) ##writing function to sort\n",
    "print(a)\n",
    "\n",
    "\n",
    "a.sort(key = lambda k: k[0]) ## using lambda to sort\n",
    "print(a)"
   ]
  },
  {
   "cell_type": "code",
   "execution_count": null,
   "id": "5a9dd465",
   "metadata": {},
   "outputs": [],
   "source": [
    "my_list = [3,4,5,67,8,9,5,6,7,4,32,5,6,65,32]\n",
    "their_liist = range(10)\n",
    "\n",
    "def giveit(item):\n",
    "return item\n",
    "\n",
    "print(list(zip(my_list, their_list)))\n",
    "\n",
    "\n",
    "my_list = [3,4,5,67,8,9,5,6,7,4,32,5,6,65,32]\n",
    "their_liist = range(10)\n",
    "\n",
    "def giveit(item):\n",
    "return item\n",
    "\n",
    "print(list(zip(my_list, their_list)))\n",
    "\n",
    "\n",
    "my_list = [3,4,5,67,8,9,5,6,7,4,32,5,6,65,32]\n",
    "their_liist = range(10)\n",
    "\n",
    "def giveit(item):\n",
    "return item\n",
    "\n",
    "print(list(zip(my_list, their_list)))\n",
    "\n",
    "\n",
    "my_list = [3,4,5,67,8,9,5,6,7,4,32,5,6,65,32]\n",
    "their_liist = range(10)\n",
    "\n",
    "def giveit(item):\n",
    "return item\n",
    "\n",
    "print(list(zip(my_list, their_list)))\n",
    "\n",
    "\n",
    "my_list = [3,4,5,67,8,9,5,6,7,4,32,5,6,65,32]\n",
    "their_liist = range(10)\n",
    "\n",
    "def giveit(item):\n",
    "return item\n",
    "\n",
    "print(list(zip(my_list, their_list)))"
   ]
  }
 ],
 "metadata": {
  "kernelspec": {
   "display_name": "Python 3 (ipykernel)",
   "language": "python",
   "name": "python3"
  },
  "language_info": {
   "codemirror_mode": {
    "name": "ipython",
    "version": 3
   },
   "file_extension": ".py",
   "mimetype": "text/x-python",
   "name": "python",
   "nbconvert_exporter": "python",
   "pygments_lexer": "ipython3",
   "version": "3.9.7"
  }
 },
 "nbformat": 4,
 "nbformat_minor": 5
}
