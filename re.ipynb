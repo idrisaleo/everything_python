{
 "cells": [
  {
   "cell_type": "code",
   "execution_count": 5,
   "id": "23c192af",
   "metadata": {},
   "outputs": [
    {
     "name": "stdout",
     "output_type": "stream",
     "text": [
      "<re.Match object; span=(7, 10), match='for'>\n"
     ]
    }
   ],
   "source": [
    "import re\n",
    "\n",
    "statement = 'I pray for grace. Help me, O\\' Allah'\n",
    "\n",
    "fi = re.search('grace', statement) ##re.search('condition', 'data')\n",
    "\n",
    "pattern = re.compile('for')\n",
    "\n",
    "sec = pattern.search(statement) ##you initiate .search in calling for your condition.\n",
    "\n",
    "print(sec)\n",
    "\n",
    "##re.search\n",
    "##re.compile"
   ]
  },
  {
   "cell_type": "code",
   "execution_count": 29,
   "id": "add7e291",
   "metadata": {},
   "outputs": [
    {
     "name": "stdout",
     "output_type": "stream",
     "text": [
      "<re.Match object; span=(29, 32), match='one'>\n",
      "<re.Match object; span=(38, 41), match='and'>\n"
     ]
    }
   ],
   "source": [
    "import re\n",
    "\n",
    "data = 'I bear witness there is only one God, and that Muhammad is his slave and messenger.'\n",
    "\n",
    "sha1 = re.search('one', data)\n",
    "\n",
    "print(sha1)\n",
    "\n",
    "pattern = re.compile('and')\n",
    "\n",
    "sha2 = pattern.findall(data)\n",
    "sha3 = pattern.fullmatch(data)\n",
    "sha4 = pattern.match(data)\n",
    "sha5 = pattern.search(data)\n",
    "print(sha5)"
   ]
  },
  {
   "cell_type": "code",
   "execution_count": 23,
   "id": "0ca9f624",
   "metadata": {},
   "outputs": [
    {
     "name": "stdout",
     "output_type": "stream",
     "text": [
      "<re.Match object; span=(0, 8), match='Olaleo4#'>\n"
     ]
    }
   ],
   "source": [
    "paswd = re.compile(r\"^(?=.*[a-z])(?=.*[A-Z])(?=.*\\d)(?=.*[@$!%*#?&])[A-Za-z\\d@$!#%*?&]{8,}$\")\n",
    "\n",
    "my_pas = 'Olaleo4#'\n",
    "\n",
    "trial = paswd.search(my_pas)\n",
    "\n",
    "trial2 = re.search(paswd, my_pas)\n",
    "\n",
    "print(trial2)\n",
    "\n"
   ]
  },
  {
   "cell_type": "code",
   "execution_count": 27,
   "id": "ab0feb79",
   "metadata": {},
   "outputs": [
    {
     "name": "stdout",
     "output_type": "stream",
     "text": [
      "invalid password, try again.\n"
     ]
    }
   ],
   "source": [
    "def main():\n",
    "    pas_req = re.compile(r\"^(?=.*[a-z])(?=.*[A-Z])(?=.*\\d)(?=.*[@$!%*#?&])[A-Za-z\\d@$!#%*?&]{8,}$\")\n",
    "    pas_given = 'olaleo45#'\n",
    "    formula = re.search(pas_req, pas_given)\n",
    "    \n",
    "    if formula:\n",
    "        print('password is valid')\n",
    "        \n",
    "    else:\n",
    "        print('invalid password, try again.')\n",
    "        \n",
    "main()"
   ]
  },
  {
   "cell_type": "code",
   "execution_count": null,
   "id": "64d3485b",
   "metadata": {},
   "outputs": [],
   "source": []
  }
 ],
 "metadata": {
  "kernelspec": {
   "display_name": "Python 3 (ipykernel)",
   "language": "python",
   "name": "python3"
  },
  "language_info": {
   "codemirror_mode": {
    "name": "ipython",
    "version": 3
   },
   "file_extension": ".py",
   "mimetype": "text/x-python",
   "name": "python",
   "nbconvert_exporter": "python",
   "pygments_lexer": "ipython3",
   "version": "3.9.7"
  }
 },
 "nbformat": 4,
 "nbformat_minor": 5
}
