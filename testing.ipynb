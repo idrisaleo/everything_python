{
 "cells": [
  {
   "cell_type": "code",
   "execution_count": null,
   "id": "739b465d",
   "metadata": {},
   "outputs": [],
   "source": [
    "import unittest\n",
    "import the_file\n",
    "\n",
    "class which_u_call_anything(unittest.TestCase):\n",
    "    def test1():\n",
    "        test_param = ## if u wana compare the values from the file imported with the parameter you give here. \n",
    "        result = ## the name of file + the function u want to test + paramater u give, if interested\n",
    "        self.assertEqual,True, False,isInstance,NotEqual(result)\n",
    "        \n",
    "        \n",
    "if __name__ = __main__:\n",
    "    unittest.the_file()\n",
    "                                                "
   ]
  },
  {
   "cell_type": "code",
   "execution_count": 19,
   "id": "63ae76a4",
   "metadata": {},
   "outputs": [
    {
     "name": "stdout",
     "output_type": "stream",
     "text": [
      "<function function at 0x0000013E108B03A0>\n"
     ]
    }
   ],
   "source": [
    "import random\n",
    "\n",
    "random = random.randint(1, 10)\n",
    "\n",
    "def function(random):\n",
    "  while True:\n",
    "    try:\n",
    "      guess = input(int('whats the lucky number?'))\n",
    "      if 0 < guess < 11:\n",
    "        print('valid')\n",
    "      elif guess > 11:\n",
    "        print('above limit')\n",
    "      else:\n",
    "        print('has to be a number')\n",
    "    except ValueError as err:\n",
    "      return err\n",
    "\n",
    "print(function)"
   ]
  },
  {
   "cell_type": "code",
   "execution_count": null,
   "id": "5934ffdc",
   "metadata": {},
   "outputs": [],
   "source": [
    "import unittest\n",
    "import main\n",
    "\n",
    "class TestLotto(unittest.TestCase):\n",
    "    def a_func(self):\n",
    "        guess = 5\n",
    "        result = main.function(guess)\n",
    "        self.assertEqual(result, 7)\n",
    "    "
   ]
  }
 ],
 "metadata": {
  "kernelspec": {
   "display_name": "Python 3 (ipykernel)",
   "language": "python",
   "name": "python3"
  },
  "language_info": {
   "codemirror_mode": {
    "name": "ipython",
    "version": 3
   },
   "file_extension": ".py",
   "mimetype": "text/x-python",
   "name": "python",
   "nbconvert_exporter": "python",
   "pygments_lexer": "ipython3",
   "version": "3.9.7"
  }
 },
 "nbformat": 4,
 "nbformat_minor": 5
}
