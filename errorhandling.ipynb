{
 "cells": [
  {
   "cell_type": "code",
   "execution_count": null,
   "id": "4ff2447e",
   "metadata": {},
   "outputs": [],
   "source": [
    "    ## Error Handling: TRY EXCEPT ELSE FINALLY METHOD. Try this, if there is an error, do this, else do this.\n",
    "\n",
    "    \n",
    "while True:\n",
    "  \n",
    "     try:\n",
    "        age = int(input('Whats your age?'))\n",
    "        print (10/age)\n",
    "\n",
    "    except ValueError:\n",
    "        print('please print a number')\n",
    "\n",
    "    except ZeroDivisionError:\n",
    "        print('age must be greater than 0')\n",
    "\n",
    "    else:\n",
    "        print('thank you')\n",
    "        break\n",
    "        \n",
    "\n",
    "\n",
    "\n"
   ]
  },
  {
   "cell_type": "code",
   "execution_count": null,
   "id": "1900c6bc",
   "metadata": {},
   "outputs": [],
   "source": [
    "\n",
    "\n",
    "# generators allow us to generate a sequence of value over time\n",
    "\n",
    "def solar_gen(num):\n",
    "    for item in range(num):\n",
    "        yield item\n",
    "        \n",
    "        \n",
    "g = solar_gen(10)\n",
    "\n",
    "print(next(g))\n",
    "next(g)\n",
    "print(next(g))"
   ]
  },
  {
   "cell_type": "code",
   "execution_count": null,
   "id": "5adc2640",
   "metadata": {},
   "outputs": [],
   "source": [
    "    ## Error Handling: TRY EXCEPT ELSE FINALLY METHOD. Try this, if there is an error, do this, else do this. Finally gets to print whatever. We can also use RAISE that allows us raise our errors and call them out.\n",
    "\n",
    "while True:\n",
    "  \n",
    "  try:\n",
    "     year = int(input('In what year were you born?'))\n",
    "     print(10/year)\n",
    "  except ValueError:\n",
    "   print('that was an error')\n",
    "  \n",
    "  except ZeroDivisionError as err:\n",
    "    print(f'that won\\'t work {err}')\n",
    "    \n",
    "  else:\n",
    "    print('thanks for the answer')\n",
    "    break\n",
    "    \n",
    "  finally:\n",
    "    print('that was a tough one')\n",
    "    break\n",
    "\n",
    "    \n",
    "\n",
    "    "
   ]
  },
  {
   "cell_type": "code",
   "execution_count": null,
   "id": "ee963651",
   "metadata": {},
   "outputs": [],
   "source": [
    "\n",
    "def solar_gen(num):\n",
    "    for item in range(num):\n",
    "        yield item\n",
    "        \n",
    "        \n",
    "g = solar_gen(10)\n",
    "\n",
    "next(g)\n",
    "next(g)\n",
    "next(g)\n",
    "next(g)\n",
    "next(g)\n",
    "next(g)\n",
    "next(g)\n",
    "next(g)\n",
    "print(next(g))\n",
    "\n"
   ]
  },
  {
   "cell_type": "code",
   "execution_count": null,
   "id": "b84dac20",
   "metadata": {},
   "outputs": [],
   "source": []
  }
 ],
 "metadata": {
  "kernelspec": {
   "display_name": "Python 3 (ipykernel)",
   "language": "python",
   "name": "python3"
  },
  "language_info": {
   "codemirror_mode": {
    "name": "ipython",
    "version": 3
   },
   "file_extension": ".py",
   "mimetype": "text/x-python",
   "name": "python",
   "nbconvert_exporter": "python",
   "pygments_lexer": "ipython3",
   "version": "3.9.7"
  }
 },
 "nbformat": 4,
 "nbformat_minor": 5
}
