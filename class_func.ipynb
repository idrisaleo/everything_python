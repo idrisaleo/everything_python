{
 "cells": [
  {
   "cell_type": "code",
   "execution_count": 1,
   "id": "68e6df8a",
   "metadata": {},
   "outputs": [
    {
     "name": "stdout",
     "output_type": "stream",
     "text": [
      "The latest edition has got massive 7 level\n",
      "None\n"
     ]
    }
   ],
   "source": [
    "class Car:\n",
    "    def __init__(self, speed, gear, engine):\n",
    "        self.speed = speed\n",
    "        self.gear = gear\n",
    "        self.engine = engine\n",
    "        \n",
    "    def model(self):\n",
    "        print(f'The latest edition has got massive {self.speed} level')\n",
    "        \n",
    "        \n",
    "class Motorbike(Car):\n",
    "    \n",
    "    def __init__(self, wheel, color, speed, gear, engine):\n",
    "        super().__init__(speed, gear, engine)\n",
    "        self.wheel = wheel\n",
    "        self.color = color\n",
    "        \n",
    "    def made_in(cls):\n",
    "        return cls ('China')\n",
    "    \n",
    " \n",
    "tesla = Motorbike(4, 'blue', 7, 5, 'big')\n",
    "\n",
    "print(tesla.model())\n",
    "    \n",
    "    \n",
    "\n",
    "\n",
    "    \n",
    "    "
   ]
  },
  {
   "cell_type": "code",
   "execution_count": 67,
   "id": "d7c79846",
   "metadata": {},
   "outputs": [
    {
     "name": "stdout",
     "output_type": "stream",
     "text": [
      "giving wahala plenty gan ni\n"
     ]
    }
   ],
   "source": [
    "class Education:\n",
    "    def __init__(self, level):\n",
    "        self.level = level\n",
    "        \n",
    "    def student(self):\n",
    "        print('We believe in the powers of gaining knowledge')\n",
    "        \n",
    "        \n",
    "class Examination(Education):\n",
    "    def __init__(self, final_year, entry, level):\n",
    "        Education.__init__(self, level)\n",
    "        self.final_year = final_year\n",
    "        self.entry = entry\n",
    "       \n",
    "    @classmethod\n",
    "    def authority(cls):\n",
    "        return('giving wahala plenty gan ni')\n",
    "    \n",
    "    \n",
    "stu1 = Examination(500,100,2)\n",
    "\n",
    "print(Examination.authority())\n",
    "\n",
    "\n",
    "        \n",
    "        \n",
    "        \n",
    "        \n",
    "        \n",
    "        \n",
    "        \n",
    "        \n",
    "        \n",
    "        \n",
    "        \n",
    "        \n",
    "        \n",
    "        \n",
    "        \n",
    "        \n",
    "        \n",
    "        \n",
    "        \n",
    "        \n",
    "        \n",
    "        \n",
    "        \n",
    "        \n",
    "        \n",
    "        \n",
    "        "
   ]
  },
  {
   "cell_type": "code",
   "execution_count": 84,
   "id": "6cd4167a",
   "metadata": {},
   "outputs": [
    {
     "name": "stdout",
     "output_type": "stream",
     "text": [
      "oil\n"
     ]
    }
   ],
   "source": [
    "class Protein:\n",
    "    def __init__(self, source):\n",
    "        self.source = source\n",
    "        \n",
    "        \n",
    "    def diet(self):\n",
    "        print('Good diet gives good health')\n",
    "        \n",
    "        \n",
    "        \n",
    "class Fat(Protein):\n",
    "    def __init__(self, types, source):\n",
    "        Protein.__init__(self, source)\n",
    "        self.types = types\n",
    "\n",
    "        \n",
    "    def eating(self):\n",
    "        print('We need to develop a good eating habit')\n",
    "        \n",
    "        \n",
    "food = Fat('oil', 'plant based pro')\n",
    "\n",
    "print(food.types)\n",
    "\n"
   ]
  },
  {
   "cell_type": "code",
   "execution_count": 94,
   "id": "afe1dc8e",
   "metadata": {},
   "outputs": [
    {
     "name": "stdout",
     "output_type": "stream",
     "text": [
      "5\n",
      "1000\n"
     ]
    }
   ],
   "source": [
    "class GiantList(list):\n",
    "    def __len__(self):\n",
    "        return 1000\n",
    "    \n",
    "    \n",
    "giantlist1 = GiantList()\n",
    "\n",
    "giantlist1.append(5)\n",
    "print(giantlist1[0])\n",
    "print(len(giantlist1))"
   ]
  },
  {
   "cell_type": "code",
   "execution_count": null,
   "id": "4e563d68",
   "metadata": {},
   "outputs": [],
   "source": []
  }
 ],
 "metadata": {
  "kernelspec": {
   "display_name": "Python 3 (ipykernel)",
   "language": "python",
   "name": "python3"
  },
  "language_info": {
   "codemirror_mode": {
    "name": "ipython",
    "version": 3
   },
   "file_extension": ".py",
   "mimetype": "text/x-python",
   "name": "python",
   "nbconvert_exporter": "python",
   "pygments_lexer": "ipython3",
   "version": "3.9.7"
  }
 },
 "nbformat": 4,
 "nbformat_minor": 5
}
