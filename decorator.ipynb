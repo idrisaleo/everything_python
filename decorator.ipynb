{
 "cells": [
  {
   "cell_type": "code",
   "execution_count": null,
   "id": "0a00f427",
   "metadata": {},
   "outputs": [],
   "source": [
    "# Create an @authenticated decorator that only allows the function to run is user1 has 'valid' set to True:\n",
    "user1 = {\n",
    "    'name': 'Sorna',\n",
    "    'valid': True #changing this will either run or not run the message_friends function.\n",
    "}\n",
    "\n",
    "def authenticated(fn):\n",
    "  def wrapper(*args, **kwargs):\n",
    "    if args [0]['valid']:\n",
    "        return fn(*args, **kwargs)\n",
    "  return wrapper \n",
    "        \n",
    "@authenticated\n",
    "def message_friends(user):\n",
    "    print('message has been sent')\n",
    "\n",
    "message_friends(user1)"
   ]
  },
  {
   "cell_type": "code",
   "execution_count": null,
   "id": "edc65d67",
   "metadata": {},
   "outputs": [],
   "source": [
    "from time import time\n",
    "\n",
    " def whatever(fn):\n",
    " def wrapper(*args, **kwargs):\n",
    "     t1 = time()\n",
    "     result = fn(*args, **kwargs)\n",
    "     t2 = time()\n",
    "     print(f'took {t2-t1}s to run')\n",
    "     return result\n",
    " return wrapper\n",
    "\n",
    "\n",
    "@whatever\n",
    "def findout():\n",
    "    for item in range(3000000000):\n",
    "        item*67\n",
    "    \n",
    "\n",
    "findout()\n",
    "\n",
    "\n",
    "\n",
    "    "
   ]
  },
  {
   "cell_type": "code",
   "execution_count": null,
   "id": "4293003f",
   "metadata": {},
   "outputs": [],
   "source": []
  },
  {
   "cell_type": "code",
   "execution_count": null,
   "id": "ca97ba16",
   "metadata": {},
   "outputs": [],
   "source": []
  }
 ],
 "metadata": {
  "kernelspec": {
   "display_name": "Python 3 (ipykernel)",
   "language": "python",
   "name": "python3"
  },
  "language_info": {
   "codemirror_mode": {
    "name": "ipython",
    "version": 3
   },
   "file_extension": ".py",
   "mimetype": "text/x-python",
   "name": "python",
   "nbconvert_exporter": "python",
   "pygments_lexer": "ipython3",
   "version": "3.9.7"
  }
 },
 "nbformat": 4,
 "nbformat_minor": 5
}
