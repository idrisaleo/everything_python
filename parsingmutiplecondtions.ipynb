{
 "cells": [
  {
   "cell_type": "markdown",
   "id": "bd69e687",
   "metadata": {},
   "source": [
    "Examples of class method and static method, the methods you can call directly without any need for assigning a different variable for. They are junior to the class object attribute"
   ]
  },
  {
   "cell_type": "code",
   "execution_count": 104,
   "id": "3e1da59b",
   "metadata": {},
   "outputs": [
    {
     "name": "stdout",
     "output_type": "stream",
     "text": [
      "The oldest cat is 6 years old\n",
      "Mammalia\n"
     ]
    }
   ],
   "source": [
    "class Cat:\n",
    "    species = 'Mammalia'\n",
    "    def __init__(self, name, age):\n",
    "        self.name = name\n",
    "        self.age = age\n",
    "        \n",
    "def oldest(*args):\n",
    "    return max(args)\n",
    "\n",
    "            \n",
    "        \n",
    "cat1 = Cat('basa', 4)\n",
    "cat2 = Cat('muru', 3)\n",
    "cat3 = Cat('lino', 6)\n",
    "\n",
    "\n",
    "print(f'The oldest cat is {oldest(cat1.age, cat2.age, cat3.age)} years old')\n",
    "print(cat3.species)\n",
    "\n",
    "\n",
    "\n"
   ]
  },
  {
   "cell_type": "code",
   "execution_count": 100,
   "id": "89089ef6",
   "metadata": {},
   "outputs": [
    {
     "name": "stdout",
     "output_type": "stream",
     "text": [
      "netto pepsi\n"
     ]
    }
   ],
   "source": [
    "class Beverage:\n",
    "    def __init__(self, product, expiry_date, in_what_store):\n",
    "        self.product = product\n",
    "        self.expiry_date = expiry_date\n",
    "        self.in_what_store = in_what_store\n",
    "        \n",
    "cat1 = Beverage('pepsi', 2023, 'shoprite')\n",
    "cat2 = Beverage('fanta', 2022, 'edeka')\n",
    "cat3 = Beverage('coke', 2024, 'netto')\n",
    "\n",
    "print(cat3.in_what_store, cat1.product)"
   ]
  },
  {
   "cell_type": "code",
   "execution_count": 79,
   "id": "1338b619",
   "metadata": {},
   "outputs": [
    {
     "name": "stdout",
     "output_type": "stream",
     "text": [
      "go on sou\n",
      "whatever\n",
      "<bound method Beverage.drinks of <class '__main__.Beverage'>>\n"
     ]
    }
   ],
   "source": [
    "class Beverage:\n",
    "    \n",
    "    def __init__(self, product, expiry_date, in_what_store):\n",
    "        self.product = product\n",
    "        self.expiry_date = expiry_date\n",
    "        self.in_what_store = in_what_store\n",
    "        \n",
    "    @classmethod\n",
    "    def drinks(cls):\n",
    "        print('go on sou')\n",
    "        return cls ('water',2025,'lidl')\n",
    "\n",
    "    \n",
    "    @staticmethod\n",
    "    def juice():\n",
    "        print('whatever')\n",
    "        \n",
    "cat1 = Beverage('pepsi', 2023, 'shoprite')\n",
    "cat2 = Beverage('fanta', 2022, 'edeka')\n",
    "cat3 = Beverage('coke', 2024, 'netto')\n",
    "cat4 = Beverage.drinks()\n",
    "cat5 = Beverage.juice()\n",
    "\n",
    "print(Beverage.drinks)"
   ]
  },
  {
   "cell_type": "code",
   "execution_count": 93,
   "id": "8ddef42f",
   "metadata": {
    "scrolled": true
   },
   "outputs": [
    {
     "name": "stdout",
     "output_type": "stream",
     "text": [
      "vegetable\n"
     ]
    }
   ],
   "source": [
    "class Food:\n",
    "    def __init__(self, nutrient, crop_type, where_grown):\n",
    "        self.nutrient = nutrient\n",
    "        self.crop_type = crop_type\n",
    "        self.where_grown = where_grown\n",
    "        \n",
    "    @classmethod\n",
    "    def fruit(cls):\n",
    "        return cls('vitamin', 'vegetable', 'loamy')\n",
    "    \n",
    "    @staticmethod\n",
    "    def dairy():\n",
    "        return ('cheese')\n",
    "        \n",
    "        \n",
    "rice = Food('carbohydrate', 'grain', 'wetland')\n",
    "bean = Food('protein', 'legume', 'clay')\n",
    "wheat = Food('carbohydrate', 'grain', 'silt loam')\n",
    "mango = Food.fruit()\n",
    "milk = Food.dairy()\n",
    "\n",
    "print(mango.crop_type)\n",
    "\n",
    "\n",
    "\n",
    "\n",
    "\n"
   ]
  },
  {
   "cell_type": "code",
   "execution_count": null,
   "id": "702aecd1",
   "metadata": {},
   "outputs": [],
   "source": []
  }
 ],
 "metadata": {
  "kernelspec": {
   "display_name": "Python 3 (ipykernel)",
   "language": "python",
   "name": "python3"
  },
  "language_info": {
   "codemirror_mode": {
    "name": "ipython",
    "version": 3
   },
   "file_extension": ".py",
   "mimetype": "text/x-python",
   "name": "python",
   "nbconvert_exporter": "python",
   "pygments_lexer": "ipython3",
   "version": "3.9.7"
  }
 },
 "nbformat": 4,
 "nbformat_minor": 5
}
