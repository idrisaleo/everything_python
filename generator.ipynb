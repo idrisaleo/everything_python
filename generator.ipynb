{
 "cells": [
  {
   "cell_type": "code",
   "execution_count": null,
   "id": "172362a3",
   "metadata": {},
   "outputs": [],
   "source": [
    "## yield allows us to create our generator. \n",
    "## Without that keyword, our work is just like every other func. \n",
    "## And with yield, when called, returns to the next item in line or the value in such range. \n",
    "\n",
    "def solar_gen(num):\n",
    "    for item in range(num):\n",
    "        yield item\n",
    "        \n",
    "        \n",
    "g = solar_gen(10)\n",
    "\n",
    "next(g)\n",
    "next(g)\n",
    "next(g)\n",
    "next(g)\n",
    "next(g)\n",
    "next(g)\n",
    "next(g)\n",
    "next(g)\n",
    "print(next(g))\n",
    "next(g)\n",
    "\n"
   ]
  },
  {
   "cell_type": "code",
   "execution_count": null,
   "id": "2fe97b91",
   "metadata": {},
   "outputs": [],
   "source": []
  },
  {
   "cell_type": "code",
   "execution_count": null,
   "id": "39c33840",
   "metadata": {},
   "outputs": [],
   "source": []
  }
 ],
 "metadata": {
  "kernelspec": {
   "display_name": "Python 3 (ipykernel)",
   "language": "python",
   "name": "python3"
  },
  "language_info": {
   "codemirror_mode": {
    "name": "ipython",
    "version": 3
   },
   "file_extension": ".py",
   "mimetype": "text/x-python",
   "name": "python",
   "nbconvert_exporter": "python",
   "pygments_lexer": "ipython3",
   "version": "3.9.7"
  }
 },
 "nbformat": 4,
 "nbformat_minor": 5
}
