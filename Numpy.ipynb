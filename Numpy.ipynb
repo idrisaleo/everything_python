{
 "cells": [
  {
   "cell_type": "code",
   "execution_count": 3,
   "id": "792c5464",
   "metadata": {},
   "outputs": [
    {
     "data": {
      "text/plain": [
       "array([ 2,  3,  4,  5, 67,  8,  9,  5,  7])"
      ]
     },
     "execution_count": 3,
     "metadata": {},
     "output_type": "execute_result"
    }
   ],
   "source": [
    "import numpy as np\n",
    "array = np.array([2,3,4,5,67,8,9,5,7]) # a vector, has single dimension\n",
    "array"
   ]
  },
  {
   "cell_type": "code",
   "execution_count": 7,
   "id": "0406745b",
   "metadata": {},
   "outputs": [],
   "source": [
    "array2 = np.array([[4,4,5,6], [43,7,5,4], [234,7,5,4], [5,32,1,2]]) # 4d array\n"
   ]
  },
  {
   "cell_type": "code",
   "execution_count": 37,
   "id": "f86ab47a",
   "metadata": {},
   "outputs": [
    {
     "data": {
      "text/plain": [
       "array([0, 2, 4, 6, 8])"
      ]
     },
     "execution_count": 37,
     "metadata": {},
     "output_type": "execute_result"
    }
   ],
   "source": [
    "one = np.arange(10, dtype = 'int')\n",
    "one[0:10:2] ## initial:end:jump"
   ]
  },
  {
   "cell_type": "code",
   "execution_count": 13,
   "id": "6ad7333f",
   "metadata": {},
   "outputs": [
    {
     "data": {
      "text/plain": [
       "2"
      ]
     },
     "execution_count": 13,
     "metadata": {},
     "output_type": "execute_result"
    }
   ],
   "source": [
    "array3 = np.array([[3,4], [2,1], [67,7], [563, 1]]) ## 4d array, 2 dim or elements,\n",
    "#array3[:2] ## start\n",
    "array3.ndim"
   ]
  },
  {
   "cell_type": "code",
   "execution_count": 3,
   "id": "23f96389",
   "metadata": {},
   "outputs": [
    {
     "data": {
      "text/plain": [
       "array([ 0.,  5., 10., 15., 20.])"
      ]
     },
     "execution_count": 3,
     "metadata": {},
     "output_type": "execute_result"
    }
   ],
   "source": [
    "ls = np.linspace(0, 20, num=5) ##range start and end.. gap\n",
    "ls"
   ]
  },
  {
   "cell_type": "markdown",
   "id": "c9664a48",
   "metadata": {},
   "source": [
    "ranging = numpy.array(2,20,4)"
   ]
  },
  {
   "cell_type": "code",
   "execution_count": 53,
   "id": "e18a8de8",
   "metadata": {},
   "outputs": [
    {
     "data": {
      "text/plain": [
       "array([ 2,  5,  8, 11, 14, 17, 20, 23, 26, 29])"
      ]
     },
     "execution_count": 53,
     "metadata": {},
     "output_type": "execute_result"
    }
   ],
   "source": [
    "ranging = np.arange(2,30,3) ##start, end, jump\n",
    "ranging"
   ]
  },
  {
   "cell_type": "code",
   "execution_count": 19,
   "id": "2a41b2ff",
   "metadata": {},
   "outputs": [
    {
     "data": {
      "text/plain": [
       "array([[  9,   9],\n",
       "       [  2,   1],\n",
       "       [ 67,   7],\n",
       "       [563,   1]])"
      ]
     },
     "execution_count": 19,
     "metadata": {},
     "output_type": "execute_result"
    }
   ],
   "source": [
    "array3[0] = [9,9] ## numpy array is changeable\n",
    "array3"
   ]
  },
  {
   "cell_type": "code",
   "execution_count": 24,
   "id": "fbbeb160",
   "metadata": {},
   "outputs": [
    {
     "data": {
      "text/plain": [
       "array([0, 0, 0, 0, 0])"
      ]
     },
     "execution_count": 24,
     "metadata": {},
     "output_type": "execute_result"
    }
   ],
   "source": [
    "ab = np.zeros(5, dtype = int)\n",
    "ab"
   ]
  },
  {
   "cell_type": "code",
   "execution_count": 18,
   "id": "a25e27bd",
   "metadata": {},
   "outputs": [
    {
     "data": {
      "text/plain": [
       "array([1, 2, 3, 4, 5, 6])"
      ]
     },
     "execution_count": 18,
     "metadata": {},
     "output_type": "execute_result"
    }
   ],
   "source": [
    "a = np.array([[1,2], [3,4]])\n",
    "b = np.array([[5,6]])\n",
    "c = np.concatenate((a,b))\n",
    "d = np.delete(c, [2]) # position 2\n",
    "e = np.append(d, 3) # to append\n",
    "np.sort(e) ## sorting in Narray\n",
    "\n",
    "\n"
   ]
  },
  {
   "cell_type": "code",
   "execution_count": 9,
   "id": "2622d368",
   "metadata": {},
   "outputs": [
    {
     "data": {
      "text/plain": [
       "array([[ 5],\n",
       "       [ 4],\n",
       "       [78]])"
      ]
     },
     "execution_count": 9,
     "metadata": {},
     "output_type": "execute_result"
    }
   ],
   "source": [
    "abc = np.array([[5], [4], [78]])\n",
    "de = np.sort(abc, axis=0) ## another form of sorting, variabl, axis(position), and order(sometimes)\n",
    "fg = np.sort(abc, axis=1)\n",
    "fg"
   ]
  },
  {
   "cell_type": "code",
   "execution_count": 3,
   "id": "390189b0",
   "metadata": {
    "scrolled": true
   },
   "outputs": [
    {
     "data": {
      "text/plain": [
       "array([[[19, 67, 22],\n",
       "        [20, 89, 54]],\n",
       "\n",
       "       [[19,  0, 34],\n",
       "        [45, 12, 67]],\n",
       "\n",
       "       [[19, 18, 23],\n",
       "        [20, 56, 98]]])"
      ]
     },
     "execution_count": 3,
     "metadata": {},
     "output_type": "execute_result"
    }
   ],
   "source": [
    "import numpy as np\n",
    "arrayment = np.array([[[20,89,22], [19,67,54]], \n",
    "                      [[45,12,67], [19,00,34]], \n",
    "                      [[20,18,23], [19,56,98]]], dtype=int)\n",
    "np.sort(arrayment, axis=1) ## axis 1 is vertical, axis 0 is horizontal"
   ]
  },
  {
   "cell_type": "code",
   "execution_count": 34,
   "id": "fbc2a2de",
   "metadata": {},
   "outputs": [
    {
     "data": {
      "text/plain": [
       "array([[20, 89, 22, 19, 67, 54, 45, 12, 67],\n",
       "       [19,  0, 34, 20, 18, 23, 19, 56, 98]])"
      ]
     },
     "execution_count": 34,
     "metadata": {},
     "output_type": "execute_result"
    }
   ],
   "source": [
    "arrayment.ndim ##dimension\n",
    "arrayment.shape ##shape 3d dimension, first element 2, second ele 3\n",
    "arrayment.size ##size of the array\n",
    "arr_reshape = arrayment.reshape(3,6)\n",
    "newshape_reshape = np.reshape(arr_reshape, newshape=(2,9))\n",
    "newshape_reshape"
   ]
  },
  {
   "cell_type": "code",
   "execution_count": 25,
   "id": "7e3d0c66",
   "metadata": {},
   "outputs": [
    {
     "data": {
      "text/plain": [
       "array([45, 12, 67])"
      ]
     },
     "execution_count": 25,
     "metadata": {},
     "output_type": "execute_result"
    }
   ],
   "source": [
    "arrayment1 = np.array(arrayment)\n",
    "arrayment1[:1] ## indexing for only the first element\n",
    "arrayment1[0,1] ## first dimension but its second element\n",
    "arrayment1[1,0] ## second dimension but its first element "
   ]
  },
  {
   "cell_type": "code",
   "execution_count": 63,
   "id": "be105a2b",
   "metadata": {},
   "outputs": [
    {
     "data": {
      "text/plain": [
       "array([[1, 2, 3, 4, 5, 6, 8]])"
      ]
     },
     "execution_count": 63,
     "metadata": {},
     "output_type": "execute_result"
    }
   ],
   "source": [
    "ax = np.array([1,2,3,4,5,6])\n",
    "ax1 = ax[:, np.newaxis] ## give me 6 dimensions with the one element\n",
    "ax2 = ax[np.newaxis, :] ## give me one dimension with six element\n",
    "ave = np.array([1, 2, 3, 4, 5, 6, 8])\n",
    "bave = np.expand_dims(ave, axis=1) ## give me ave 8 dimension with one element since the axis is the second pos\n",
    "bave1 = np.expand_dims(ave, axis=0) ## give me 1 dimension with 8 ele since the axis positio is first\n",
    "bave1\n",
    "\n"
   ]
  },
  {
   "cell_type": "code",
   "execution_count": 80,
   "id": "a523afeb",
   "metadata": {},
   "outputs": [
    {
     "data": {
      "text/plain": [
       "array([1, 2, 3, 4, 5])"
      ]
     },
     "execution_count": 80,
     "metadata": {},
     "output_type": "execute_result"
    }
   ],
   "source": [
    "data = np.array([1,2,3,4,5])\n",
    "data[]\n"
   ]
  },
  {
   "cell_type": "code",
   "execution_count": 120,
   "id": "212f6698",
   "metadata": {},
   "outputs": [
    {
     "data": {
      "text/plain": [
       "array([ 1,  3,  5,  7,  9, 11])"
      ]
     },
     "execution_count": 120,
     "metadata": {},
     "output_type": "execute_result"
    }
   ],
   "source": [
    "scale = np.array([[1,2,3,4], [5,6,7,8], [9,10,11,12]])\n",
    "#print(scale[scale < 2])\n",
    "sc1 = scale[scale%2!=0]\n",
    "sc1\n",
    "\n"
   ]
  },
  {
   "cell_type": "code",
   "execution_count": 153,
   "id": "d3a71abe",
   "metadata": {},
   "outputs": [
    {
     "name": "stdout",
     "output_type": "stream",
     "text": [
      "(0, 0)\n",
      "(0, 1)\n",
      "(0, 2)\n",
      "(0, 3)\n"
     ]
    }
   ],
   "source": [
    "ara = np.array([[1, 2, 3, 4], [5, 6, 7, 8], [9, 10, 11, 12]])\n",
    "bara = np.nonzero(ara < 5)\n",
    "list_cord = list(zip(bara[0], bara[1])) ## for zipping\n",
    "list_cord\n",
    "\n",
    "for cord in list_cord:\n",
    "    print(cord)"
   ]
  },
  {
   "cell_type": "code",
   "execution_count": 5,
   "id": "b5a7d8e6",
   "metadata": {},
   "outputs": [
    {
     "data": {
      "text/plain": [
       "array([[45, 56, 23, 67],\n",
       "       [34, 32, 37, 87]])"
      ]
     },
     "execution_count": 5,
     "metadata": {},
     "output_type": "execute_result"
    }
   ],
   "source": [
    "arra_stack = np.array([[45, 56], [34, 32]])\n",
    "barra_stack = np.array([[23, 67], [37, 87]])\n",
    "\n",
    "arra_vstack = np.vstack((arra_stack, barra_stack)) ##stacking vertically\n",
    "arra_hstack = np.hstack((arra_stack, barra_stack)) ## stacking hori\n",
    "arra_hstack"
   ]
  },
  {
   "cell_type": "code",
   "execution_count": 6,
   "id": "1ca886ab",
   "metadata": {},
   "outputs": [
    {
     "data": {
      "text/plain": [
       "[array([[ 1,  2],\n",
       "        [13, 14]]),\n",
       " array([[ 3,  4],\n",
       "        [15, 16]]),\n",
       " array([[ 5,  6,  7,  8,  9, 10, 11, 12],\n",
       "        [17, 18, 19, 20, 21, 22, 23, 24]])]"
      ]
     },
     "execution_count": 6,
     "metadata": {},
     "output_type": "execute_result"
    }
   ],
   "source": [
    "import numpy as np\n",
    "x = np.arange(1, 25).reshape(2, 12)\n",
    "\n",
    "np.hsplit(x, (2,4)) ##split such that 2,4 are not together. And every array has to be uniformly distributed. "
   ]
  },
  {
   "cell_type": "code",
   "execution_count": 162,
   "id": "e9983335",
   "metadata": {},
   "outputs": [
    {
     "data": {
      "text/plain": [
       "[array([[ 1,  2,  3,  4],\n",
       "        [13, 14, 15, 16]]),\n",
       " array([[ 5,  6,  7,  8],\n",
       "        [17, 18, 19, 20]]),\n",
       " array([[ 9, 10, 11, 12],\n",
       "        [21, 22, 23, 24]])]"
      ]
     },
     "execution_count": 162,
     "metadata": {},
     "output_type": "execute_result"
    }
   ],
   "source": [
    "np.hsplit(x,3) ## to split array"
   ]
  },
  {
   "cell_type": "code",
   "execution_count": 171,
   "id": "204a7da8",
   "metadata": {},
   "outputs": [
    {
     "data": {
      "text/plain": [
       "array([[99,  2,  3,  4],\n",
       "       [ 5,  6,  7,  8],\n",
       "       [ 9, 10, 11, 12]])"
      ]
     },
     "execution_count": 171,
     "metadata": {},
     "output_type": "execute_result"
    }
   ],
   "source": [
    "ade = np.array([[1, 2, 3, 4], [5, 6, 7, 8], [9, 10, 11, 12]])\n",
    "b1 = ade[0]\n",
    "b1[0] = 99\n",
    "b2 = ade.copy() ## var_name.copy\n",
    "b2\n"
   ]
  },
  {
   "cell_type": "code",
   "execution_count": 180,
   "id": "c8e98313",
   "metadata": {},
   "outputs": [
    {
     "data": {
      "text/plain": [
       "5"
      ]
     },
     "execution_count": 180,
     "metadata": {},
     "output_type": "execute_result"
    }
   ],
   "source": [
    "data = np.array([1,2])\n",
    "ones = np.ones(2, dtype=int)\n",
    "dones = data+ones  ## you can add the values of array tgeda\n",
    "dones.sum()"
   ]
  },
  {
   "cell_type": "code",
   "execution_count": 189,
   "id": "98b46836",
   "metadata": {},
   "outputs": [
    {
     "data": {
      "text/plain": [
       "24"
      ]
     },
     "execution_count": 189,
     "metadata": {},
     "output_type": "execute_result"
    }
   ],
   "source": [
    "bata = np.array([[2,3], [4,6]])\n",
    "bata.sum(axis=1) ##sum over axis 1\n",
    "bata.sum(axis=0) #sum over axis 0\n",
    "sata = bata * 4 ## assigning over different data, broadcasting\n",
    "sata.min() ## minimum\n",
    "sata.max() ## maximum\n",
    "\n"
   ]
  },
  {
   "cell_type": "code",
   "execution_count": 198,
   "id": "6e5f5aa8",
   "metadata": {},
   "outputs": [
    {
     "data": {
      "text/plain": [
       "array([[10, 30, 40, 75],\n",
       "       [30, 45, 70, 90],\n",
       "       [42, 48, 52, 96]])"
      ]
     },
     "execution_count": 198,
     "metadata": {},
     "output_type": "execute_result"
    }
   ],
   "source": [
    "datu = np.array([[10,30,40,75],\n",
    "               [90,45,30,70],\n",
    "               [52,48,96,42]])\n",
    "np.sort(datu, axis=1)"
   ]
  },
  {
   "cell_type": "code",
   "execution_count": 32,
   "id": "fbbabe89",
   "metadata": {},
   "outputs": [
    {
     "data": {
      "text/plain": [
       "[array([[ 1,  2,  3,  4,  5,  6,  7,  8,  9, 10]]),\n",
       " array([[11, 12, 13, 14, 15, 16, 17, 18, 19, 20]])]"
      ]
     },
     "execution_count": 32,
     "metadata": {},
     "output_type": "execute_result"
    }
   ],
   "source": [
    "bansa = np.array([1,2,3,4,5,6,7,8,9,10,11,12,13,14,15,16,17,18,19,20]).reshape(2,10)\n",
    "np.hsplit(bansa, (2,3)) ## horizontally after the 2nd and 3rd columns. \n",
    "np.vsplit(bansa, 2) ##split vertically in two equal places"
   ]
  },
  {
   "cell_type": "code",
   "execution_count": 46,
   "id": "aa8d3b8b",
   "metadata": {},
   "outputs": [
    {
     "data": {
      "text/plain": [
       "array([ 6,  9, 10])"
      ]
     },
     "execution_count": 46,
     "metadata": {},
     "output_type": "execute_result"
    }
   ],
   "source": [
    "ndata = np.array([[6, 3], [9, 6], [10, 5]])\n",
    "ndata.max(axis=1) # if its zero dim or axis, "
   ]
  },
  {
   "cell_type": "code",
   "execution_count": 79,
   "id": "ed3e5373",
   "metadata": {},
   "outputs": [
    {
     "data": {
      "text/plain": [
       "array([[ 35,  23],\n",
       "       [ 24,  32],\n",
       "       [125,  78]])"
      ]
     },
     "execution_count": 79,
     "metadata": {},
     "output_type": "execute_result"
    }
   ],
   "source": [
    "arith = np.array([[34,12], [23,21], [124,67]])\n",
    "metic = np.array([1,11])\n",
    "metic + arith\n",
    "\n",
    "\n"
   ]
  },
  {
   "cell_type": "code",
   "execution_count": 132,
   "id": "9a68adc1",
   "metadata": {},
   "outputs": [
    {
     "data": {
      "text/plain": [
       "array([0.96550567, 0.24815665, 0.64852339, 0.39277474, 0.07682581])"
      ]
     },
     "execution_count": 132,
     "metadata": {},
     "output_type": "execute_result"
    }
   ],
   "source": [
    "rng = np.random.default_rng() ## to have a generator\n",
    "rng.random(5) ## .random randomly gives you a number"
   ]
  },
  {
   "cell_type": "code",
   "execution_count": 110,
   "id": "38f69260",
   "metadata": {},
   "outputs": [],
   "source": [
    "huge_rand_int = rng.integers(100, size=(5,20,10)) ## generate me a random number not above 100, has five dimen,\n",
    "                                                    ##first 20 elements and sec 10 ele\n",
    "#huge_rand_int\n"
   ]
  },
  {
   "cell_type": "code",
   "execution_count": 117,
   "id": "5098de09",
   "metadata": {},
   "outputs": [
    {
     "data": {
      "text/plain": [
       "array([11, 12, 13, 14, 15, 16, 17, 18, 19, 20])"
      ]
     },
     "execution_count": 117,
     "metadata": {},
     "output_type": "execute_result"
    }
   ],
   "source": [
    "a = np.array([11, 11, 12, 13, 14, 15, 16, 17, 12, 13, 11, 14, 18, 19, 20])\n",
    "unique_values = np.unique(a) ## to slice out only the unique values\n",
    "unique_values"
   ]
  },
  {
   "cell_type": "code",
   "execution_count": 141,
   "id": "8fec602c",
   "metadata": {},
   "outputs": [
    {
     "data": {
      "text/plain": [
       "array([ 0,  2,  3,  4,  5,  6,  7, 12, 13, 14], dtype=int64)"
      ]
     },
     "execution_count": 141,
     "metadata": {},
     "output_type": "execute_result"
    }
   ],
   "source": [
    "unique_values, indices_list = np.unique(a, return_index=True) ##returns the index num\n",
    "unique_values\n",
    "indices_list\n",
    "#print(indices_list)\n",
    "#unique_values, occur_count = np.unique(a, return_counts=True) ## returns the occurence num\n",
    "#print(occur_count)"
   ]
  },
  {
   "cell_type": "code",
   "execution_count": 27,
   "id": "2e0971f3",
   "metadata": {},
   "outputs": [
    {
     "name": "stdout",
     "output_type": "stream",
     "text": [
      "[0 1 2]\n"
     ]
    }
   ],
   "source": [
    "a_2d = np.array([[1, 2, 3, 4], [5, 6, 7, 8], [9, 10, 11, 12], [1, 2, 3, 4]])\n",
    "a_2d_uni, index_num, counts_appear = np.unique(a_2d, axis=0, return_index=True, return_counts=True)\n",
    "#print(counts_appear) ## one array appears twice, and the other, once.\n",
    "#print(a_2d_uni) ## gives us the unique arrays\n",
    "print(index_num) ## returns the index of only the unique arrays"
   ]
  },
  {
   "cell_type": "code",
   "execution_count": 158,
   "id": "6ac84b53",
   "metadata": {},
   "outputs": [
    {
     "data": {
      "text/plain": [
       "<function numpy.random._generator.default_rng>"
      ]
     },
     "execution_count": 158,
     "metadata": {},
     "output_type": "execute_result"
    }
   ],
   "source": [
    "np.random.default_rng"
   ]
  },
  {
   "cell_type": "code",
   "execution_count": 172,
   "id": "d4dbf6f6",
   "metadata": {},
   "outputs": [
    {
     "data": {
      "text/plain": [
       "array([[ 1,  6, 11],\n",
       "       [ 2,  7, 12],\n",
       "       [ 3,  8, 13],\n",
       "       [ 4,  9, 14],\n",
       "       [ 5, 10, 15]])"
      ]
     },
     "execution_count": 172,
     "metadata": {},
     "output_type": "execute_result"
    }
   ],
   "source": [
    "shape = np.arange(1,16)\n",
    "resha = np.arange(1,16).reshape(3,5)\n",
    "\n",
    "#shape\n",
    "#reshape\n",
    "resha.transpose() ## to transpose or use resha.T\n"
   ]
  },
  {
   "cell_type": "code",
   "execution_count": null,
   "id": "d864c79b",
   "metadata": {},
   "outputs": [],
   "source": []
  }
 ],
 "metadata": {
  "kernelspec": {
   "display_name": "Python 3 (ipykernel)",
   "language": "python",
   "name": "python3"
  },
  "language_info": {
   "codemirror_mode": {
    "name": "ipython",
    "version": 3
   },
   "file_extension": ".py",
   "mimetype": "text/x-python",
   "name": "python",
   "nbconvert_exporter": "python",
   "pygments_lexer": "ipython3",
   "version": "3.9.7"
  }
 },
 "nbformat": 4,
 "nbformat_minor": 5
}
