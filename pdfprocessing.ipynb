{
 "cells": [
  {
   "cell_type": "code",
   "execution_count": null,
   "id": "07a5a5e4",
   "metadata": {},
   "outputs": [],
   "source": [
    "\n",
    "import PyPDF2\n",
    "\n",
    "with open('ec.pdf', 'rb') as file:\n",
    "\treader=PyPDF2.PdfFileReader(file)\n",
    "\tpage=reader.getPage(0)\n",
    "\tpage.rotateCounterClockwise(90)\n",
    "\twriter=PyPDF2.PdfFileWriter()\n",
    "\twriter.addPage(page)\n",
    "\twith open('syl_tilt.pdf', 'wb') as new_file:\n",
    "\t\twriter.write(new_file)\n",
    "   "
   ]
  },
  {
   "cell_type": "code",
   "execution_count": null,
   "id": "8161370f",
   "metadata": {},
   "outputs": [],
   "source": [
    "\n",
    "import PyPDF2\n",
    "import sys\n",
    "\n",
    "inputs = sys.argv[1:]\n",
    "\n",
    "\n",
    "def pdf_combiner(pdf_list):\n",
    "\tmerger = PyPDF2.PdfFileMerger()\n",
    "\tfor pdf in pdf_list:\n",
    "\t\tprint(pdf)\n",
    "\t\tmerger.append(pdf)\n",
    "\tmerger.write('merged2_pdf')\n",
    "\n",
    "pdf_combiner(inputs)\t\n"
   ]
  }
 ],
 "metadata": {
  "kernelspec": {
   "display_name": "Python 3 (ipykernel)",
   "language": "python",
   "name": "python3"
  },
  "language_info": {
   "codemirror_mode": {
    "name": "ipython",
    "version": 3
   },
   "file_extension": ".py",
   "mimetype": "text/x-python",
   "name": "python",
   "nbconvert_exporter": "python",
   "pygments_lexer": "ipython3",
   "version": "3.9.7"
  }
 },
 "nbformat": 4,
 "nbformat_minor": 5
}
