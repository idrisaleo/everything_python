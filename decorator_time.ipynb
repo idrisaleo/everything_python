{
 "cells": [
  {
   "cell_type": "code",
   "execution_count": 5,
   "id": "672cfc94",
   "metadata": {},
   "outputs": [
    {
     "ename": "IndentationError",
     "evalue": "unexpected indent (Temp/ipykernel_11768/172351894.py, line 3)",
     "output_type": "error",
     "traceback": [
      "\u001b[1;36m  File \u001b[1;32m\"C:\\Users\\IDRISI~1\\AppData\\Local\\Temp/ipykernel_11768/172351894.py\"\u001b[1;36m, line \u001b[1;32m3\u001b[0m\n\u001b[1;33m    def whatever(fn):\u001b[0m\n\u001b[1;37m    ^\u001b[0m\n\u001b[1;31mIndentationError\u001b[0m\u001b[1;31m:\u001b[0m unexpected indent\n"
     ]
    }
   ],
   "source": [
    "from time import time\n",
    "\n",
    " def whatever(fn):\n",
    "  def wrapper(*args, **kwargs):\n",
    "      t1 = time()\n",
    "      result = fn(*args, **kwargs)\n",
    "      t2 = time()\n",
    "      print(f'took {t2-t1}s to run')\n",
    "      return result\n",
    "  return wrapper\n",
    "\n",
    "\n",
    "@whatever\n",
    "def findout():\n",
    "    for item in range(3000000000):\n",
    "        item*67\n",
    "    \n",
    "\n",
    "findout()"
   ]
  },
  {
   "cell_type": "code",
   "execution_count": null,
   "id": "75e29fb9",
   "metadata": {},
   "outputs": [],
   "source": []
  }
 ],
 "metadata": {
  "kernelspec": {
   "display_name": "Python 3 (ipykernel)",
   "language": "python",
   "name": "python3"
  },
  "language_info": {
   "codemirror_mode": {
    "name": "ipython",
    "version": 3
   },
   "file_extension": ".py",
   "mimetype": "text/x-python",
   "name": "python",
   "nbconvert_exporter": "python",
   "pygments_lexer": "ipython3",
   "version": "3.9.7"
  }
 },
 "nbformat": 4,
 "nbformat_minor": 5
}
