{
 "cells": [
  {
   "cell_type": "code",
   "execution_count": 2,
   "id": "b1a9349b",
   "metadata": {},
   "outputs": [
    {
     "name": "stdout",
     "output_type": "stream",
     "text": [
      "[1, 8, 27, 64, 125, 216, 343, 512, 729, 1000, 1331, 1728, 2197, 2744, 3375, 4096, 4913, 5832, 6859, 8000, 9261, 10648, 12167, 13824, 15625, 17576, 19683, 21952, 24389, 27000, 29791, 32768, 35937, 39304, 42875, 46656, 50653, 54872, 59319, 64000, 68921, 74088, 79507, 85184, 91125, 97336, 103823, 110592, 117649]\n"
     ]
    }
   ],
   "source": [
    "li1 = range(50)\n",
    "li2 = []\n",
    "\n",
    "##if odd, insert into to the new list and power to 3\n",
    "\n",
    "li2 = [odd**3 for odd in range(50) if odd/2 != 0]\n",
    "print(li2)"
   ]
  },
  {
   "cell_type": "code",
   "execution_count": 3,
   "id": "4a91c0d5",
   "metadata": {},
   "outputs": [],
   "source": [
    "from time import time\n",
    "def time_diff(fn):\n",
    "  def wrapper(*args, **kwargs):\n",
    "    start_time = time()\n",
    "    calc_time = fn(*args, **kwargs)\n",
    "    end_time = time()\n",
    "    return calc_time\n",
    "  return wrapper"
   ]
  },
  {
   "cell_type": "code",
   "execution_count": 6,
   "id": "d2d7b6b0",
   "metadata": {},
   "outputs": [
    {
     "name": "stdout",
     "output_type": "stream",
     "text": [
      "<function time_diff at 0x000001615FA35AF0>\n"
     ]
    }
   ],
   "source": [
    "from time import time\n",
    "def time_diff(fn):\n",
    "  def wrapper(*args, **kwargs):\n",
    "    start_time = time()\n",
    "    calc_time = fn(*args, **kwargs)\n",
    "    end_time = time()\n",
    "    return calc_time\n",
    "  return wrapper\n",
    "\n",
    "print(time_diff)"
   ]
  },
  {
   "cell_type": "code",
   "execution_count": 18,
   "id": "90c70665",
   "metadata": {},
   "outputs": [
    {
     "name": "stdout",
     "output_type": "stream",
     "text": [
      "<function time_diff at 0x000001615FA35CA0>\n"
     ]
    }
   ],
   "source": [
    "from time import time\n",
    "def time_diff(fn):\n",
    "  def wrapper(*args, **kwargs):\n",
    "    start_time = time()\n",
    "    calc_time = fn(*args, **kwargs)\n",
    "    end_time = time()\n",
    "    print(f'Woow....It took{end_time - start_time}s to run')\n",
    "    return calc_time\n",
    "  return wrapper\n",
    "\n",
    "print(time_diff)\n",
    "\n",
    "@time_diff\n",
    "def usain():\n",
    "  for b in range(890000000000000000000):\n",
    "    b*49"
   ]
  },
  {
   "cell_type": "code",
   "execution_count": 9,
   "id": "0c631273",
   "metadata": {},
   "outputs": [
    {
     "data": {
      "text/plain": [
       "0"
      ]
     },
     "execution_count": 9,
     "metadata": {},
     "output_type": "execute_result"
    }
   ],
   "source": [
    "usain()"
   ]
  },
  {
   "cell_type": "code",
   "execution_count": 16,
   "id": "3f431c55",
   "metadata": {},
   "outputs": [
    {
     "name": "stdout",
     "output_type": "stream",
     "text": [
      "took 0.005333900451660156s to run\n"
     ]
    }
   ],
   "source": [
    "from time import time\n",
    "\n",
    "def whatever(fn):\n",
    "  def wrapper(*args, **kwargs):\n",
    "    t1 = time()\n",
    "    result = fn(*args, **kwargs)\n",
    "    t2 = time()\n",
    "    print(f'took {t2-t1}s to run')\n",
    "    return result\n",
    "  return wrapper\n",
    "\n",
    "\n",
    "@whatever\n",
    "def findout():\n",
    "    for item in range(30000):\n",
    "        item*67\n",
    "    \n",
    "\n",
    "findout()"
   ]
  },
  {
   "cell_type": "code",
   "execution_count": 21,
   "id": "5652e558",
   "metadata": {},
   "outputs": [
    {
     "name": "stdout",
     "output_type": "stream",
     "text": [
      "Woow....It took 0.17937254905700684 sec to run\n"
     ]
    }
   ],
   "source": [
    "from time import time\n",
    "def time_diff(fn):\n",
    "  def wrapper(*args, **kwargs):\n",
    "    start_time = time()\n",
    "    calc_time = fn(*args, **kwargs)\n",
    "    end_time = time()\n",
    "    print(f'Woow....It took {end_time - start_time} sec to run')\n",
    "    return calc_time\n",
    "  return wrapper\n",
    "\n",
    "\n",
    "@time_diff\n",
    "def usain():\n",
    "  for b in range(890000):\n",
    "    b*49\n",
    "\n",
    "usain()\n",
    "\n"
   ]
  },
  {
   "cell_type": "code",
   "execution_count": 22,
   "id": "dc6bfa91",
   "metadata": {},
   "outputs": [
    {
     "name": "stdout",
     "output_type": "stream",
     "text": [
      "[<function <lambda> at 0x000001615FA35B80>]\n"
     ]
    }
   ],
   "source": [
    "\n",
    "list12 = range(20)\n",
    "liste = [lambda var1: var1*list12]\n",
    "\n",
    "print(liste)"
   ]
  },
  {
   "cell_type": "code",
   "execution_count": 56,
   "id": "101be1db",
   "metadata": {},
   "outputs": [
    {
     "name": "stdout",
     "output_type": "stream",
     "text": [
      "[(5, 1), (4, 2), (3, 3), (2, 4), (5, 6), (3, 7), (9, 8), (5, 10)]\n"
     ]
    }
   ],
   "source": [
    "records = [(3,3), (4,2), (5,1), (2,4), (5,10), (9,8), (3,7), (5,6)]\n",
    "\n",
    "def sorting(records):\n",
    "    return records[1] \n",
    "\n",
    "file = sorted(records, key = sorting)  ##use key argument to get what you want.\n",
    "\n",
    "print(file)\n"
   ]
  },
  {
   "cell_type": "code",
   "execution_count": 58,
   "id": "f89548d0",
   "metadata": {},
   "outputs": [
    {
     "name": "stdout",
     "output_type": "stream",
     "text": [
      "[(5, 6), (3, 7), (9, 8), (4, 9), (5, 11), (3, 12), (5, 13), (2, 14)]\n"
     ]
    }
   ],
   "source": [
    "recording = [(3,12), (4,9), (5,11), (2,14), (5,13), (9,8), (3,7), (5,6)]\n",
    "\n",
    "recording.sort(key = lambda data: data[1])\n",
    "\n",
    "print(recording)\n",
    "\n"
   ]
  },
  {
   "cell_type": "code",
   "execution_count": 69,
   "id": "a4a5fe5e",
   "metadata": {},
   "outputs": [
    {
     "name": "stdout",
     "output_type": "stream",
     "text": [
      "[(5, 10), (5, 16), (3, 17), (9, 18), (2, 24), (5, 31), (4, 32), (3, 34)]\n"
     ]
    }
   ],
   "source": [
    "record = [(3,34), (4,32), (5,31), (2,24), (5,10), (9,18), (3,17), (5,16)]\n",
    "\n",
    "record.sort(key = lambda data: data[1])\n",
    "\n",
    "print(record)"
   ]
  },
  {
   "cell_type": "code",
   "execution_count": 82,
   "id": "93c105ca",
   "metadata": {},
   "outputs": [
    {
     "name": "stdout",
     "output_type": "stream",
     "text": [
      "[35, 6, 68, 79, 66]\n"
     ]
    }
   ],
   "source": [
    "records = [34,5,67,78,65]\n",
    "\n",
    "new_records = list(filter(lambda data: data % 2 == 0, records))\n",
    "\n",
    "new_records = list(map(lambda data: data+1, records))\n",
    "\n",
    "\n",
    "print(new_records)\n",
    "\n"
   ]
  },
  {
   "cell_type": "code",
   "execution_count": null,
   "id": "66be96eb",
   "metadata": {},
   "outputs": [],
   "source": [
    "## random is one of the built-in modules or libraries. \n",
    "\n",
    "you import it i.e import random\n",
    "\n",
    "and you can carry out any action you want on it i.e random.randint, .choice, .random, .shuffle(list) etc\n",
    "\n",
    "import sys argv\n",
    "\n",
    "pip3 install -- helps you lean on the support of the amazing python community.\n",
    "you can check that up on pypi.org\n",
    "change the version of package with pip3 install pyjokes == 0.4.0 i.e the version u want \n",
    "\n",
    "venv = virtual environment created by python\n",
    "\n"
   ]
  },
  {
   "cell_type": "code",
   "execution_count": 7,
   "id": "dfc64975",
   "metadata": {},
   "outputs": [
    {
     "name": "stdout",
     "output_type": "stream",
     "text": [
      "4\n"
     ]
    }
   ],
   "source": [
    "class OrderedDict():\n",
    "    def __init__(self, name, age):\n",
    "        self.name = name\n",
    "        self.age = age\n",
    "\n",
    "\n",
    "    @classmethod        \n",
    "    def assign(cls, something): ## something has to be parsed inside apart from the 'cls' keyword.\n",
    "      return cls('sidi', 4)\n",
    "\n",
    "contes1 = OrderedDict('mide', 5)\n",
    "contes2 = OrderedDict.assign('cool') ##u need to give an argument to parameter something before the class method will work.\n",
    "        \n",
    "print(contes2.age)"
   ]
  },
  {
   "cell_type": "code",
   "execution_count": null,
   "id": "88ff3c13",
   "metadata": {},
   "outputs": [],
   "source": []
  }
 ],
 "metadata": {
  "kernelspec": {
   "display_name": "Python 3 (ipykernel)",
   "language": "python",
   "name": "python3"
  },
  "language_info": {
   "codemirror_mode": {
    "name": "ipython",
    "version": 3
   },
   "file_extension": ".py",
   "mimetype": "text/x-python",
   "name": "python",
   "nbconvert_exporter": "python",
   "pygments_lexer": "ipython3",
   "version": "3.9.7"
  }
 },
 "nbformat": 4,
 "nbformat_minor": 5
}
