{
 "cells": [
  {
   "cell_type": "code",
   "execution_count": 6,
   "id": "15f3cf8e",
   "metadata": {},
   "outputs": [
    {
     "data": {
      "text/plain": [
       "(2, 2, 4)"
      ]
     },
     "execution_count": 6,
     "metadata": {},
     "output_type": "execute_result"
    }
   ],
   "source": [
    "import numpy as np\n",
    "a1 = np.array([1,2,3,4,5,6])\n",
    "a2 = np.array([[1,2,3,4,5], [6,7,8,9,10], [11,12,13,14,15]])\n",
    "\n",
    "a3.shape"
   ]
  },
  {
   "cell_type": "code",
   "execution_count": 119,
   "id": "0c05b730",
   "metadata": {},
   "outputs": [
    {
     "data": {
      "text/plain": [
       "array([11, 12])"
      ]
     },
     "execution_count": 119,
     "metadata": {},
     "output_type": "execute_result"
    }
   ],
   "source": [
    "a2[2, 0:2] ## viewing arrays"
   ]
  },
  {
   "cell_type": "markdown",
   "id": "4061d673",
   "metadata": {},
   "source": [
    "### 2d array, each array has 2 element, each dimension has 4 elements.\n",
    "### I.e, 2d array, with first dimension with 2 elemnt, second dimension with 4 elements. See A3:"
   ]
  },
  {
   "cell_type": "code",
   "execution_count": null,
   "id": "bcbdb92f",
   "metadata": {},
   "outputs": [],
   "source": [
    "a3 = np.array([[[10,20,4,5], [30,40,7,8]], [[6,5,50,60], [4,1,70,80]]]) "
   ]
  },
  {
   "cell_type": "code",
   "execution_count": 12,
   "id": "da0b08e2",
   "metadata": {},
   "outputs": [
    {
     "data": {
      "text/plain": [
       "array([0, 0, 0, 0, 0])"
      ]
     },
     "execution_count": 12,
     "metadata": {},
     "output_type": "execute_result"
    }
   ],
   "source": [
    "azeros = np.zeros(5, dtype=int)\n",
    "azeros"
   ]
  },
  {
   "cell_type": "code",
   "execution_count": 20,
   "id": "087e18bb",
   "metadata": {},
   "outputs": [
    {
     "data": {
      "text/plain": [
       "array([[1., 1., 1.],\n",
       "       [1., 1., 1.]])"
      ]
     },
     "execution_count": 20,
     "metadata": {},
     "output_type": "execute_result"
    }
   ],
   "source": [
    "aones = np.ones((2,3))\n",
    "aones"
   ]
  },
  {
   "cell_type": "code",
   "execution_count": 27,
   "id": "aa74f68c",
   "metadata": {},
   "outputs": [
    {
     "data": {
      "text/plain": [
       "60"
      ]
     },
     "execution_count": 27,
     "metadata": {},
     "output_type": "execute_result"
    }
   ],
   "source": [
    "rand_under20 = np.random.randint(20, size=(2,10,3)) ##give me a random int, with no values above 20, design in a 2d array, \n",
    "# with frst 10 ele and second 3 elem\n",
    "rand_under20"
   ]
  },
  {
   "cell_type": "code",
   "execution_count": 60,
   "id": "357fd8a3",
   "metadata": {},
   "outputs": [
    {
     "data": {
      "text/plain": [
       "array([0.32216948, 0.27040001, 0.97413926])"
      ]
     },
     "execution_count": 60,
     "metadata": {},
     "output_type": "execute_result"
    }
   ],
   "source": [
    "tiger_generator = np.random.default_rng() ## declaring generator\n",
    "tiger_generator.integers(100, size=(2,3,5)) ## building an arra from a generator, with no integers above 100 \n",
    "\n",
    "bajjaj_generator = np.random.default_rng() ## declaring generator\n",
    "bajjaj_generator.random(3) ## randomizing the gen"
   ]
  },
  {
   "cell_type": "code",
   "execution_count": 83,
   "id": "fd7fb111",
   "metadata": {},
   "outputs": [
    {
     "data": {
      "text/plain": [
       "array([[4, 0, 1, 2],\n",
       "       [0, 3, 1, 3],\n",
       "       [3, 2, 0, 3],\n",
       "       [2, 3, 3, 1],\n",
       "       [1, 2, 3, 2]])"
      ]
     },
     "execution_count": 83,
     "metadata": {},
     "output_type": "execute_result"
    }
   ],
   "source": [
    "np.random.seed(seed= 43) ## seed freezes your random variable to be static\n",
    "freeze = np.random.randint(5, size=(5, 4))\n"
   ]
  },
  {
   "cell_type": "code",
   "execution_count": 98,
   "id": "d4428637",
   "metadata": {},
   "outputs": [
    {
     "data": {
      "text/plain": [
       "array([[0.5881308 , 0.89771373],\n",
       "       [0.89153073, 0.81583748],\n",
       "       [0.03588959, 0.69175758],\n",
       "       [0.37868094, 0.51851095],\n",
       "       [0.65795147, 0.19385022]])"
      ]
     },
     "execution_count": 98,
     "metadata": {},
     "output_type": "execute_result"
    }
   ],
   "source": [
    "np.random.seed(seed= 20) \n",
    "fre_test = np.random.rand(5,2)\n",
    "fre_test"
   ]
  },
  {
   "cell_type": "code",
   "execution_count": 103,
   "id": "c21537c5",
   "metadata": {},
   "outputs": [
    {
     "data": {
      "text/plain": [
       "array([[0.59228702, 0.6644892 , 0.64656729],\n",
       "       [0.42563648, 0.51356833, 0.50125784],\n",
       "       [0.03708381, 0.7081161 , 0.6204306 ],\n",
       "       [0.77780853, 0.45940947, 0.37980555],\n",
       "       [0.2918922 , 0.55722886, 0.0841636 ]])"
      ]
     },
     "execution_count": 103,
     "metadata": {},
     "output_type": "execute_result"
    }
   ],
   "source": [
    "double_random = np.random.random((5,3))\n",
    "double_random"
   ]
  },
  {
   "cell_type": "code",
   "execution_count": 106,
   "id": "1ee0c5a0",
   "metadata": {},
   "outputs": [
    {
     "data": {
      "text/plain": [
       "array([0, 1, 2, 3, 4])"
      ]
     },
     "execution_count": 106,
     "metadata": {},
     "output_type": "execute_result"
    }
   ],
   "source": [
    "np.unique(freeze)"
   ]
  },
  {
   "cell_type": "code",
   "execution_count": 154,
   "id": "969d01d8",
   "metadata": {},
   "outputs": [
    {
     "data": {
      "text/plain": [
       "array([[[[4, 0, 3],\n",
       "         [1, 3, 2],\n",
       "         [0, 4, 2],\n",
       "         [1, 1, 0]],\n",
       "\n",
       "        [[3, 0, 3],\n",
       "         [3, 0, 1],\n",
       "         [3, 0, 1],\n",
       "         [0, 2, 4]],\n",
       "\n",
       "        [[2, 4, 2],\n",
       "         [4, 0, 4],\n",
       "         [1, 2, 2],\n",
       "         [1, 1, 1]]],\n",
       "\n",
       "\n",
       "       [[[2, 3, 0],\n",
       "         [1, 2, 4],\n",
       "         [4, 4, 3],\n",
       "         [4, 0, 4]],\n",
       "\n",
       "        [[0, 1, 1],\n",
       "         [0, 1, 2],\n",
       "         [0, 3, 2],\n",
       "         [1, 0, 2]],\n",
       "\n",
       "        [[2, 3, 2],\n",
       "         [3, 3, 3],\n",
       "         [4, 1, 2],\n",
       "         [2, 1, 4]]]])"
      ]
     },
     "execution_count": 154,
     "metadata": {},
     "output_type": "execute_result"
    }
   ],
   "source": [
    "np.random.seed(seed=0)\n",
    "complex_array = np.random.randint(5, size=(2,3,4,5))\n",
    "complex_array[:, :, :, :3] \n",
    "## give me all in the first array, all ele in 2nd, all in 3rd, end before the third in 4 "
   ]
  },
  {
   "cell_type": "markdown",
   "id": "d602998a",
   "metadata": {},
   "source": [
    "### Arithmentic Numpy"
   ]
  },
  {
   "cell_type": "code",
   "execution_count": 11,
   "id": "35f0c790",
   "metadata": {},
   "outputs": [
    {
     "data": {
      "text/plain": [
       "array([1, 1, 1])"
      ]
     },
     "execution_count": 11,
     "metadata": {},
     "output_type": "execute_result"
    }
   ],
   "source": [
    "import numpy as np\n",
    "even = np.array([2,4,6])\n",
    "odd = np.array([1,3,5])\n",
    "addition = odd + even\n",
    "multiplication = odd * even\n",
    "subtraction = even - odd\n",
    "division = even / odd\n",
    "modulo = even % odd ## bringing up the remainder"
   ]
  },
  {
   "cell_type": "code",
   "execution_count": null,
   "id": "2a119119",
   "metadata": {},
   "outputs": [],
   "source": [
    "## One bracket"
   ]
  },
  {
   "cell_type": "code",
   "execution_count": 50,
   "id": "aac11541",
   "metadata": {},
   "outputs": [
    {
     "data": {
      "text/plain": [
       "(2, 2, 3)"
      ]
     },
     "execution_count": 50,
     "metadata": {},
     "output_type": "execute_result"
    }
   ],
   "source": [
    "big_array = np.array([[[11,22,33], [12,13,14], [21,22,22]],\n",
    "                    [[23,34,35], [32,12,76], [89,67,54]]])\n",
    "\n",
    "small_array = np.array([[[1,23,31], [21,45,32]],\n",
    "                      [[23,43,34], [232,45,67]]])\n",
    "\n",
    "\n",
    "                      \n",
    "small_array.shape"
   ]
  },
  {
   "cell_type": "code",
   "execution_count": 46,
   "id": "545bb722",
   "metadata": {},
   "outputs": [],
   "source": [
    "#np.random.randint(5, size=(2,6,3,5))\n",
    "np.log ##log\n",
    "np.exp ## exponential"
   ]
  },
  {
   "cell_type": "code",
   "execution_count": 10,
   "id": "c656eb62",
   "metadata": {},
   "outputs": [],
   "source": [
    "a2 = np.array([[1., 2., 3.3], [4., 5., 6.5]])\n",
    "ones = np.ones(3)\n"
   ]
  },
  {
   "cell_type": "code",
   "execution_count": 65,
   "id": "4466a7a9",
   "metadata": {},
   "outputs": [
    {
     "data": {
      "text/plain": [
       "(2, 3, 3)"
      ]
     },
     "execution_count": 65,
     "metadata": {},
     "output_type": "execute_result"
    }
   ],
   "source": [
    "np.random.seed(seed=34)\n",
    "temp = np.random.randint(5, size=(2,3,3))\n",
    "temp.shape"
   ]
  },
  {
   "cell_type": "code",
   "execution_count": 105,
   "id": "4d61c9cd",
   "metadata": {},
   "outputs": [
    {
     "data": {
      "text/plain": [
       "47.27938395125176"
      ]
     },
     "execution_count": 105,
     "metadata": {},
     "output_type": "execute_result"
    }
   ],
   "source": [
    "massive_list = np.random.random(1000)\n",
    "np.random.seed(0)\n",
    "massive_reduce = massive_list[:100]\n"
   ]
  },
  {
   "cell_type": "code",
   "execution_count": 113,
   "id": "113aea27",
   "metadata": {},
   "outputs": [
    {
     "name": "stdout",
     "output_type": "stream",
     "text": [
      "5.94 µs ± 1.21 µs per loop (mean ± std. dev. of 7 runs, 100000 loops each)\n",
      "12.8 µs ± 1.57 µs per loop (mean ± std. dev. of 7 runs, 100000 loops each)\n"
     ]
    }
   ],
   "source": [
    "\n",
    "%timeit np.sum(massive_reduce) # numpy sum is faster than python sum\n",
    "%timeit sum(massive_reduce) # python sum"
   ]
  },
  {
   "cell_type": "code",
   "execution_count": 112,
   "id": "f5c40868",
   "metadata": {},
   "outputs": [],
   "source": [
    "#%timeit ## % line magic func\n",
    "#%matplotlib inline\n",
    "#how spreadout the group of data is from the mean = SD\n",
    "#measure of the average degree to which each number is diff from d mean = variance.\n",
    "#higher variance means wide range in number, lower variance narrow range in number \n",
    "#squuareroot of variance is the SD\n",
    "#np.std, np.sqrt\n"
   ]
  },
  {
   "cell_type": "code",
   "execution_count": 118,
   "id": "8fe72645",
   "metadata": {},
   "outputs": [],
   "source": [
    "high_var_array = np.array([1,100,200,300,4000,5000])\n",
    "low_var_array = np.array([2,4,6,8,10])\n"
   ]
  },
  {
   "cell_type": "code",
   "execution_count": 123,
   "id": "c2d617b6",
   "metadata": {},
   "outputs": [
    {
     "data": {
      "text/plain": [
       "1600.1666666666667"
      ]
     },
     "execution_count": 123,
     "metadata": {},
     "output_type": "execute_result"
    }
   ],
   "source": [
    "np.mean(high_var_array)\n",
    "np.mean(low_var_array)"
   ]
  },
  {
   "cell_type": "code",
   "execution_count": 124,
   "id": "0bb5185b",
   "metadata": {},
   "outputs": [
    {
     "data": {
      "text/plain": [
       "4296133.472222221"
      ]
     },
     "execution_count": 124,
     "metadata": {},
     "output_type": "execute_result"
    }
   ],
   "source": [
    "np.var(high_var_array)##in high variance array, the variance is farther from the mean"
   ]
  },
  {
   "cell_type": "code",
   "execution_count": 122,
   "id": "1efab59d",
   "metadata": {},
   "outputs": [
    {
     "data": {
      "text/plain": [
       "8.0"
      ]
     },
     "execution_count": 122,
     "metadata": {},
     "output_type": "execute_result"
    }
   ],
   "source": [
    "np.var(low_var_array) ##in low variance array, the variance is closer to the mean"
   ]
  },
  {
   "cell_type": "code",
   "execution_count": 125,
   "id": "eedba85e",
   "metadata": {},
   "outputs": [
    {
     "data": {
      "text/plain": [
       "2072.711623024829"
      ]
     },
     "execution_count": 125,
     "metadata": {},
     "output_type": "execute_result"
    }
   ],
   "source": [
    "np.std(high_var_array) ## std shows how the difference of the whole group to the mean\n"
   ]
  },
  {
   "cell_type": "markdown",
   "id": "b63d99c7",
   "metadata": {},
   "source": [
    "## Dot Product"
   ]
  },
  {
   "cell_type": "code",
   "execution_count": 21,
   "id": "0e94adc4",
   "metadata": {},
   "outputs": [
    {
     "data": {
      "text/plain": [
       "((5, 3), (3, 5))"
      ]
     },
     "execution_count": 21,
     "metadata": {},
     "output_type": "execute_result"
    }
   ],
   "source": [
    "import numpy as np\n",
    "np.random.seed(0)\n",
    "mat1 = np.random.randint(10, size=(5,3))\n",
    "mat2 = np.random.randint(10, size=(5,3))\n",
    "mat1.shape, mat2.T.shape ## mat2 has been transposed"
   ]
  },
  {
   "cell_type": "code",
   "execution_count": 83,
   "id": "557b161e",
   "metadata": {},
   "outputs": [
    {
     "data": {
      "text/plain": [
       "(5, 5)"
      ]
     },
     "execution_count": 83,
     "metadata": {},
     "output_type": "execute_result"
    }
   ],
   "source": [
    "mat3 = np.dot(mat1, mat2.T)\n",
    "mat3.shape"
   ]
  },
  {
   "cell_type": "code",
   "execution_count": 211,
   "id": "c3fe4c92",
   "metadata": {},
   "outputs": [
    {
     "data": {
      "text/plain": [
       "array([[32, 19,  8,  7, 23],\n",
       "       [13, 17,  0, 11, 28],\n",
       "       [36, 25, 32, 14, 22],\n",
       "       [28, 20, 18,  4, 22],\n",
       "       [35, 19,  7,  8, 13]])"
      ]
     },
     "execution_count": 211,
     "metadata": {},
     "output_type": "execute_result"
    }
   ],
   "source": [
    "points = np.random.randint(38, size=(5,5))\n",
    "points"
   ]
  },
  {
   "cell_type": "code",
   "execution_count": 278,
   "id": "b6dffa78",
   "metadata": {},
   "outputs": [
    {
     "data": {
      "text/html": [
       "<div>\n",
       "<style scoped>\n",
       "    .dataframe tbody tr th:only-of-type {\n",
       "        vertical-align: middle;\n",
       "    }\n",
       "\n",
       "    .dataframe tbody tr th {\n",
       "        vertical-align: top;\n",
       "    }\n",
       "\n",
       "    .dataframe thead th {\n",
       "        text-align: right;\n",
       "    }\n",
       "</style>\n",
       "<table border=\"1\" class=\"dataframe\">\n",
       "  <thead>\n",
       "    <tr style=\"text-align: right;\">\n",
       "      <th></th>\n",
       "      <th>AC Milan</th>\n",
       "      <th>Inter</th>\n",
       "      <th>Juve</th>\n",
       "      <th>Napoli</th>\n",
       "      <th>Roma</th>\n",
       "    </tr>\n",
       "  </thead>\n",
       "  <tbody>\n",
       "    <tr>\n",
       "      <th>2013</th>\n",
       "      <td>32</td>\n",
       "      <td>19</td>\n",
       "      <td>8</td>\n",
       "      <td>7</td>\n",
       "      <td>23</td>\n",
       "    </tr>\n",
       "    <tr>\n",
       "      <th>2014</th>\n",
       "      <td>13</td>\n",
       "      <td>17</td>\n",
       "      <td>0</td>\n",
       "      <td>11</td>\n",
       "      <td>28</td>\n",
       "    </tr>\n",
       "    <tr>\n",
       "      <th>2015</th>\n",
       "      <td>36</td>\n",
       "      <td>25</td>\n",
       "      <td>32</td>\n",
       "      <td>14</td>\n",
       "      <td>22</td>\n",
       "    </tr>\n",
       "    <tr>\n",
       "      <th>2016</th>\n",
       "      <td>28</td>\n",
       "      <td>20</td>\n",
       "      <td>18</td>\n",
       "      <td>4</td>\n",
       "      <td>22</td>\n",
       "    </tr>\n",
       "    <tr>\n",
       "      <th>2017</th>\n",
       "      <td>35</td>\n",
       "      <td>19</td>\n",
       "      <td>7</td>\n",
       "      <td>8</td>\n",
       "      <td>13</td>\n",
       "    </tr>\n",
       "  </tbody>\n",
       "</table>\n",
       "</div>"
      ],
      "text/plain": [
       "      AC Milan  Inter  Juve  Napoli  Roma\n",
       "2013        32     19     8       7    23\n",
       "2014        13     17     0      11    28\n",
       "2015        36     25    32      14    22\n",
       "2016        28     20    18       4    22\n",
       "2017        35     19     7       8    13"
      ]
     },
     "execution_count": 278,
     "metadata": {},
     "output_type": "execute_result"
    }
   ],
   "source": [
    "teams = pd.DataFrame(points, columns=['AC Milan', 'Inter', 'Juve', 'Napoli', 'Roma'],\n",
    "                     index=[2013, 2014, 2015, 2016, 2017])\n",
    "                    \n",
    "    \n",
    "teams"
   ]
  },
  {
   "cell_type": "code",
   "execution_count": 273,
   "id": "3a6fe7d2",
   "metadata": {},
   "outputs": [],
   "source": [
    "bonus = np.array([3,4,5,6,7])\n",
    "unique = pd.DataFrame(bonus.reshape(1,5), \n",
    "            columns=['AC Milan', 'Inter', 'Juve', 'Napoli', 'Roma'],\n",
    "            index=['Maximun Points'])\n"
   ]
  },
  {
   "cell_type": "code",
   "execution_count": 279,
   "id": "3802f3fc",
   "metadata": {},
   "outputs": [
    {
     "data": {
      "text/html": [
       "<div>\n",
       "<style scoped>\n",
       "    .dataframe tbody tr th:only-of-type {\n",
       "        vertical-align: middle;\n",
       "    }\n",
       "\n",
       "    .dataframe tbody tr th {\n",
       "        vertical-align: top;\n",
       "    }\n",
       "\n",
       "    .dataframe thead th {\n",
       "        text-align: right;\n",
       "    }\n",
       "</style>\n",
       "<table border=\"1\" class=\"dataframe\">\n",
       "  <thead>\n",
       "    <tr style=\"text-align: right;\">\n",
       "      <th></th>\n",
       "      <th>AC Milan</th>\n",
       "      <th>Inter</th>\n",
       "      <th>Juve</th>\n",
       "      <th>Napoli</th>\n",
       "      <th>Roma</th>\n",
       "      <th>Bonus points</th>\n",
       "    </tr>\n",
       "  </thead>\n",
       "  <tbody>\n",
       "    <tr>\n",
       "      <th>2013</th>\n",
       "      <td>32</td>\n",
       "      <td>19</td>\n",
       "      <td>8</td>\n",
       "      <td>7</td>\n",
       "      <td>23</td>\n",
       "      <td>415</td>\n",
       "    </tr>\n",
       "    <tr>\n",
       "      <th>2014</th>\n",
       "      <td>13</td>\n",
       "      <td>17</td>\n",
       "      <td>0</td>\n",
       "      <td>11</td>\n",
       "      <td>28</td>\n",
       "      <td>369</td>\n",
       "    </tr>\n",
       "    <tr>\n",
       "      <th>2015</th>\n",
       "      <td>36</td>\n",
       "      <td>25</td>\n",
       "      <td>32</td>\n",
       "      <td>14</td>\n",
       "      <td>22</td>\n",
       "      <td>606</td>\n",
       "    </tr>\n",
       "    <tr>\n",
       "      <th>2016</th>\n",
       "      <td>28</td>\n",
       "      <td>20</td>\n",
       "      <td>18</td>\n",
       "      <td>4</td>\n",
       "      <td>22</td>\n",
       "      <td>432</td>\n",
       "    </tr>\n",
       "    <tr>\n",
       "      <th>2017</th>\n",
       "      <td>35</td>\n",
       "      <td>19</td>\n",
       "      <td>7</td>\n",
       "      <td>8</td>\n",
       "      <td>13</td>\n",
       "      <td>355</td>\n",
       "    </tr>\n",
       "  </tbody>\n",
       "</table>\n",
       "</div>"
      ],
      "text/plain": [
       "      AC Milan  Inter  Juve  Napoli  Roma  Bonus points\n",
       "2013        32     19     8       7    23           415\n",
       "2014        13     17     0      11    28           369\n",
       "2015        36     25    32      14    22           606\n",
       "2016        28     20    18       4    22           432\n",
       "2017        35     19     7       8    13           355"
      ]
     },
     "execution_count": 279,
     "metadata": {},
     "output_type": "execute_result"
    }
   ],
   "source": [
    "teams['Bonus points'] = teams.dot(unique.T)\n",
    "teams"
   ]
  },
  {
   "cell_type": "code",
   "execution_count": 281,
   "id": "b3fd6b09",
   "metadata": {},
   "outputs": [
    {
     "data": {
      "text/html": [
       "<div>\n",
       "<style scoped>\n",
       "    .dataframe tbody tr th:only-of-type {\n",
       "        vertical-align: middle;\n",
       "    }\n",
       "\n",
       "    .dataframe tbody tr th {\n",
       "        vertical-align: top;\n",
       "    }\n",
       "\n",
       "    .dataframe thead th {\n",
       "        text-align: right;\n",
       "    }\n",
       "</style>\n",
       "<table border=\"1\" class=\"dataframe\">\n",
       "  <thead>\n",
       "    <tr style=\"text-align: right;\">\n",
       "      <th></th>\n",
       "      <th>Maximun Points</th>\n",
       "    </tr>\n",
       "  </thead>\n",
       "  <tbody>\n",
       "    <tr>\n",
       "      <th>AC Milan</th>\n",
       "      <td>3</td>\n",
       "    </tr>\n",
       "    <tr>\n",
       "      <th>Inter</th>\n",
       "      <td>4</td>\n",
       "    </tr>\n",
       "    <tr>\n",
       "      <th>Juve</th>\n",
       "      <td>5</td>\n",
       "    </tr>\n",
       "    <tr>\n",
       "      <th>Napoli</th>\n",
       "      <td>6</td>\n",
       "    </tr>\n",
       "    <tr>\n",
       "      <th>Roma</th>\n",
       "      <td>7</td>\n",
       "    </tr>\n",
       "  </tbody>\n",
       "</table>\n",
       "</div>"
      ],
      "text/plain": [
       "          Maximun Points\n",
       "AC Milan               3\n",
       "Inter                  4\n",
       "Juve                   5\n",
       "Napoli                 6\n",
       "Roma                   7"
      ]
     },
     "execution_count": 281,
     "metadata": {},
     "output_type": "execute_result"
    }
   ],
   "source": [
    "unique.T"
   ]
  },
  {
   "cell_type": "code",
   "execution_count": 10,
   "id": "2bcab2e0",
   "metadata": {},
   "outputs": [
    {
     "data": {
      "text/plain": [
       "array([[684, 559, 629, 192, 835, 763],\n",
       "       [707, 359,   9, 723, 277, 754],\n",
       "       [804, 599,  70, 472, 600, 396],\n",
       "       [314, 705, 486, 551,  87, 174],\n",
       "       [600, 849, 677, 537, 845,  72],\n",
       "       [777, 916, 115, 976, 755, 709],\n",
       "       [847, 431, 448, 850,  99, 984],\n",
       "       [177, 755, 797, 659, 147, 910],\n",
       "       [423, 288, 961, 265, 697, 639],\n",
       "       [544, 543, 714, 244, 151, 675],\n",
       "       [510, 459, 882, 183,  28, 802],\n",
       "       [128, 128, 932,  53, 901, 550]])"
      ]
     },
     "execution_count": 10,
     "metadata": {},
     "output_type": "execute_result"
    }
   ],
   "source": [
    "import numpy as np\n",
    "np.random.seed(0)\n",
    "daily_profit = np.random.randint(1000, size=(12,6))\n",
    "daily_profit"
   ]
  },
  {
   "cell_type": "code",
   "execution_count": 82,
   "id": "ba5b9a80",
   "metadata": {},
   "outputs": [],
   "source": [
    "import pandas as pd\n",
    "monthly_sales = pd.DataFrame(daily_profit, \n",
    "             columns=['Poultry', 'Rabbitry', \n",
    "                      'Fishery', 'Orchard', \n",
    "                      'Livestock', 'Juice Sales'],\n",
    "            index=['Jan', 'Feb', 'Mar', 'Apr', \n",
    "                   'May', 'Jun', 'Jul', 'Aug', \n",
    "                   'Sep', 'Oct', 'Nov', 'Dec'])\n"
   ]
  },
  {
   "cell_type": "code",
   "execution_count": 75,
   "id": "b16294ef",
   "metadata": {},
   "outputs": [
    {
     "data": {
      "text/plain": [
       "(1, 6)"
      ]
     },
     "execution_count": 75,
     "metadata": {},
     "output_type": "execute_result"
    }
   ],
   "source": [
    "\n",
    "monthly_profit = pd.DataFrame(profit_by_category.reshape(1,6), columns=['Poultry', 'Rabbitry', 'Fishery',\n",
    "                                      'Orchard', 'Livestock', 'Juice Sales'],\n",
    "                             index=['Total Profits'])\n",
    "monthly_profit.shape"
   ]
  },
  {
   "cell_type": "code",
   "execution_count": 51,
   "id": "abae07ab",
   "metadata": {},
   "outputs": [
    {
     "data": {
      "text/plain": [
       "(1, 6)"
      ]
     },
     "execution_count": 51,
     "metadata": {},
     "output_type": "execute_result"
    }
   ],
   "source": [
    "profit_by_category = np.array([100, 350, 35, 1200, 400, 900])\n",
    "profit_by_category.reshape(1,6)\n",
    "\n",
    "\n"
   ]
  },
  {
   "cell_type": "code",
   "execution_count": 83,
   "id": "aa692e3e",
   "metadata": {},
   "outputs": [
    {
     "data": {
      "text/plain": [
       "count    1.200000e+01\n",
       "mean     1.574462e+06\n",
       "std      4.633951e+05\n",
       "min      1.009220e+06\n",
       "25%      1.221385e+06\n",
       "50%      1.441672e+06\n",
       "75%      1.884860e+06\n",
       "max      2.513625e+06\n",
       "Name: Total Profit per month, dtype: float64"
      ]
     },
     "execution_count": 83,
     "metadata": {},
     "output_type": "execute_result"
    }
   ],
   "source": [
    "b = monthly_sales.dot(monthly_profit.T)\n",
    "monthly_sales['Total Profit per month'] = b\n",
    "monthly_sales['Total Profit per month'].describe()"
   ]
  },
  {
   "cell_type": "code",
   "execution_count": null,
   "id": "6f0747d7",
   "metadata": {},
   "outputs": [],
   "source": [
    "df.sort_values(by=column, ascending=False)\n",
    "np.sort(array_name, axis=)\n",
    "np.argsort(array_name)\n",
    "np.argmin\n",
    "np.argmax\n",
    "\n",
    "\n"
   ]
  },
  {
   "cell_type": "code",
   "execution_count": 116,
   "id": "81cbe527",
   "metadata": {},
   "outputs": [],
   "source": [
    "my_complex_array = np.array([[[40,20,80,60],\n",
    "                     [1,2,3,4],\n",
    "                     [34,44,54,65],\n",
    "                     [23,12,46,87],\n",
    "                     [78,98,76,54],\n",
    "                     [90,67,55,44],\n",
    "                     [343,454,21,33],\n",
    "                     [33,444,78,98],\n",
    "                     [123,2,45,77],\n",
    "                     [10,100,1000,1]],\n",
    "                    \n",
    "                    [[21,12,31,13],\n",
    "                     [11,22,33,44],\n",
    "                     [231,213,415,145],\n",
    "                     [9,8,7,6],\n",
    "                     [6,7,8,9],\n",
    "                     [234,33,444,56],\n",
    "                     [90,80,70,60],\n",
    "                     [21,11,111,1],\n",
    "                     [88,88,88,88],\n",
    "                     [7,4,1,5]],\n",
    "                    \n",
    "                    [[54,44,33,21],\n",
    "                     [2345,678,1,2],\n",
    "                     [3,5,7,9],\n",
    "                     [4,5,6,7],\n",
    "                     [26,78,93,3],\n",
    "                     [5,65,78,32],\n",
    "                     [101,13,41,28],\n",
    "                     [2,3,4,5],\n",
    "                     [8,98,78,68],\n",
    "                     [9,99,29,39]]])\n",
    "\n"
   ]
  },
  {
   "cell_type": "code",
   "execution_count": 136,
   "id": "198a30f1",
   "metadata": {},
   "outputs": [],
   "source": [
    "same_array_horizontal = np.sort(my_complex_array) ## sorts horizontally i.e in row form.\n",
    "diff_array_vertical = np.sort(my_complex_array, axis=0) ## sorts vertically along the different arrays\n",
    "same_array_vertical = np.sort(my_complex_array, axis=1) ##sorts vertically within the same array\n"
   ]
  },
  {
   "cell_type": "markdown",
   "id": "a6c755e3",
   "metadata": {},
   "source": [
    "## ARGSORT sorts along the index of each data. i.e returns the index number of each data in an array [1,0,3,2] representing [40,20,80,60]"
   ]
  },
  {
   "cell_type": "code",
   "execution_count": 133,
   "id": "c2db9dba",
   "metadata": {},
   "outputs": [],
   "source": [
    "#np.argsort(my_complex_array)"
   ]
  },
  {
   "cell_type": "markdown",
   "id": "da02d13a",
   "metadata": {},
   "source": [
    "## ARGMAX is give me the index of the maximum value along a given axis..\n",
    "## ARGMIN is the opposite\n",
    "#### if axis 0, give that to me vertically along the different arrays\n",
    "#### if axis 1, give that to me vertically within the same arrays"
   ]
  },
  {
   "cell_type": "code",
   "execution_count": 142,
   "id": "e9a1fb9e",
   "metadata": {},
   "outputs": [],
   "source": [
    "#np.argmax(my_complex_array, axis=1)\n",
    "#np.argmin(my_complex_array, axis=0)"
   ]
  },
  {
   "cell_type": "code",
   "execution_count": 138,
   "id": "8f24a201",
   "metadata": {},
   "outputs": [
    {
     "data": {
      "text/plain": [
       "array([[[  40,   20,   80,   60],\n",
       "        [   1,    2,    3,    4],\n",
       "        [  34,   44,   54,   65],\n",
       "        [  23,   12,   46,   87],\n",
       "        [  78,   98,   76,   54],\n",
       "        [  90,   67,   55,   44],\n",
       "        [ 343,  454,   21,   33],\n",
       "        [  33,  444,   78,   98],\n",
       "        [ 123,    2,   45,   77],\n",
       "        [  10,  100, 1000,    1]],\n",
       "\n",
       "       [[  21,   12,   31,   13],\n",
       "        [  11,   22,   33,   44],\n",
       "        [ 231,  213,  415,  145],\n",
       "        [   9,    8,    7,    6],\n",
       "        [   6,    7,    8,    9],\n",
       "        [ 234,   33,  444,   56],\n",
       "        [  90,   80,   70,   60],\n",
       "        [  21,   11,  111,    1],\n",
       "        [  88,   88,   88,   88],\n",
       "        [   7,    4,    1,    5]],\n",
       "\n",
       "       [[  54,   44,   33,   21],\n",
       "        [2345,  678,    1,    2],\n",
       "        [   3,    5,    7,    9],\n",
       "        [   4,    5,    6,    7],\n",
       "        [  26,   78,   93,    3],\n",
       "        [   5,   65,   78,   32],\n",
       "        [ 101,   13,   41,   28],\n",
       "        [   2,    3,    4,    5],\n",
       "        [   8,   98,   78,   68],\n",
       "        [   9,   99,   29,   39]]])"
      ]
     },
     "execution_count": 138,
     "metadata": {},
     "output_type": "execute_result"
    }
   ],
   "source": [
    "my_complex_array"
   ]
  },
  {
   "cell_type": "code",
   "execution_count": 6,
   "id": "58416521",
   "metadata": {},
   "outputs": [
    {
     "data": {
      "text/plain": [
       "array([[[0.05490196, 0.10588235, 0.06666667],\n",
       "        [0.05490196, 0.10588235, 0.06666667],\n",
       "        [0.05490196, 0.10588235, 0.06666667],\n",
       "        ...,\n",
       "        [0.16470589, 0.12941177, 0.09411765],\n",
       "        [0.16470589, 0.12941177, 0.09411765],\n",
       "        [0.16470589, 0.12941177, 0.09411765]],\n",
       "\n",
       "       [[0.05490196, 0.10588235, 0.06666667],\n",
       "        [0.05490196, 0.10588235, 0.06666667],\n",
       "        [0.05490196, 0.10588235, 0.06666667],\n",
       "        ...,\n",
       "        [0.16470589, 0.12941177, 0.09411765],\n",
       "        [0.16470589, 0.12941177, 0.09411765],\n",
       "        [0.16470589, 0.12941177, 0.09411765]],\n",
       "\n",
       "       [[0.05490196, 0.10588235, 0.06666667],\n",
       "        [0.05490196, 0.10588235, 0.06666667],\n",
       "        [0.05490196, 0.10588235, 0.06666667],\n",
       "        ...,\n",
       "        [0.16470589, 0.12941177, 0.09411765],\n",
       "        [0.16470589, 0.12941177, 0.09411765],\n",
       "        [0.16470589, 0.12941177, 0.09411765]],\n",
       "\n",
       "       ...,\n",
       "\n",
       "       [[0.13333334, 0.07450981, 0.05490196],\n",
       "        [0.12156863, 0.0627451 , 0.04313726],\n",
       "        [0.10980392, 0.05098039, 0.03137255],\n",
       "        ...,\n",
       "        [0.02745098, 0.02745098, 0.03529412],\n",
       "        [0.02745098, 0.02745098, 0.03529412],\n",
       "        [0.02745098, 0.02745098, 0.03529412]],\n",
       "\n",
       "       [[0.13333334, 0.07450981, 0.05490196],\n",
       "        [0.12156863, 0.0627451 , 0.04313726],\n",
       "        [0.12156863, 0.0627451 , 0.04313726],\n",
       "        ...,\n",
       "        [0.02352941, 0.02352941, 0.03137255],\n",
       "        [0.02352941, 0.02352941, 0.03137255],\n",
       "        [0.02352941, 0.02352941, 0.03137255]],\n",
       "\n",
       "       [[0.13333334, 0.07450981, 0.05490196],\n",
       "        [0.12156863, 0.0627451 , 0.04313726],\n",
       "        [0.12156863, 0.0627451 , 0.04313726],\n",
       "        ...,\n",
       "        [0.02352941, 0.02352941, 0.03137255],\n",
       "        [0.02352941, 0.02352941, 0.03137255],\n",
       "        [0.02352941, 0.02352941, 0.03137255]]], dtype=float32)"
      ]
     },
     "execution_count": 6,
     "metadata": {},
     "output_type": "execute_result"
    }
   ],
   "source": [
    "from matplotlib.image import imread\n",
    "import numpy as np\n",
    "\n",
    "panda = imread('documents/panda.png')\n",
    "\n",
    "\n",
    "\n",
    "panda\n",
    "\n",
    "\n"
   ]
  },
  {
   "cell_type": "code",
   "execution_count": 204,
   "id": "a148a0a9",
   "metadata": {},
   "outputs": [
    {
     "ename": "SyntaxError",
     "evalue": "invalid syntax (Temp/ipykernel_18232/572432242.py, line 1)",
     "output_type": "error",
     "traceback": [
      "\u001b[1;36m  File \u001b[1;32m\"C:\\Users\\IDRISI~1\\AppData\\Local\\Temp/ipykernel_18232/572432242.py\"\u001b[1;36m, line \u001b[1;32m1\u001b[0m\n\u001b[1;33m    <img src=\"documents/car-photo.png\"/>\u001b[0m\n\u001b[1;37m    ^\u001b[0m\n\u001b[1;31mSyntaxError\u001b[0m\u001b[1;31m:\u001b[0m invalid syntax\n"
     ]
    }
   ],
   "source": []
  },
  {
   "cell_type": "code",
   "execution_count": null,
   "id": "127f85b3",
   "metadata": {},
   "outputs": [],
   "source": []
  }
 ],
 "metadata": {
  "kernelspec": {
   "display_name": "Python 3 (ipykernel)",
   "language": "python",
   "name": "python3"
  },
  "language_info": {
   "codemirror_mode": {
    "name": "ipython",
    "version": 3
   },
   "file_extension": ".py",
   "mimetype": "text/x-python",
   "name": "python",
   "nbconvert_exporter": "python",
   "pygments_lexer": "ipython3",
   "version": "3.9.7"
  }
 },
 "nbformat": 4,
 "nbformat_minor": 5
}
