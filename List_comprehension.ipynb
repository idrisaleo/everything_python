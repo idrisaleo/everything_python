{
 "cells": [
  {
   "cell_type": "code",
   "execution_count": 31,
   "id": "19e2b0a3",
   "metadata": {},
   "outputs": [
    {
     "name": "stdout",
     "output_type": "stream",
     "text": [
      "['b', 'n']\n"
     ]
    }
   ],
   "source": [
    "## list comprehension\n",
    "\n",
    "#expression(or action you want carried out), a for loop, a condition if needed\n",
    "\n",
    "\n",
    "some_list = ['a', 'b', 'c', 'b', 'd', 'm', 'n', 'n']\n",
    "\n",
    "duplicates = []\n",
    "\n",
    "\n",
    "        \n",
    "duplicates = list(set([value for value in some_list if some_list.count(value) > 1]))\n",
    "\n",
    "print(duplicates)"
   ]
  },
  {
   "cell_type": "code",
   "execution_count": 36,
   "id": "421e13f7",
   "metadata": {},
   "outputs": [
    {
     "name": "stdout",
     "output_type": "stream",
     "text": [
      "[200, 600, 400]\n"
     ]
    }
   ],
   "source": [
    "## multiply all the even number by 100\n",
    "\n",
    "my_list = [1,2,3,4,5,6,7,5,6,7,4,3,5,6,7,2]\n",
    "\n",
    "new_list = [num*100 for num in my_list if num % 2 == 0]\n",
    "\n",
    "\n",
    "print(new_list)\n",
    "\n"
   ]
  },
  {
   "cell_type": "code",
   "execution_count": 48,
   "id": "cda60d38",
   "metadata": {},
   "outputs": [
    {
     "name": "stdout",
     "output_type": "stream",
     "text": [
      "{500: 2, 1000: 4, 1500: 6}\n"
     ]
    }
   ],
   "source": [
    "# i want the key to be greater than values, by\n",
    "\n",
    "my_dict = {num*500:num*2 for num in [1,2,3]}\n",
    "\n",
    "\n",
    "\n",
    "print(my_dict)\n",
    "\n"
   ]
  },
  {
   "cell_type": "code",
   "execution_count": 52,
   "id": "70739bd5",
   "metadata": {},
   "outputs": [
    {
     "name": "stdout",
     "output_type": "stream",
     "text": [
      "{'c': 3, 'd': 4}\n"
     ]
    }
   ],
   "source": [
    "simple_dic = {'a': 1, 'b': 2, 'c':3, 'd':4}\n",
    "\n",
    "new_dic = {k:v for k,v in simple_dic.items() if v >2}\n",
    "\n",
    "print(new_dic)\n",
    "\n",
    "\n"
   ]
  },
  {
   "cell_type": "code",
   "execution_count": null,
   "id": "5bfdd333",
   "metadata": {},
   "outputs": [],
   "source": []
  }
 ],
 "metadata": {
  "kernelspec": {
   "display_name": "Python 3 (ipykernel)",
   "language": "python",
   "name": "python3"
  },
  "language_info": {
   "codemirror_mode": {
    "name": "ipython",
    "version": 3
   },
   "file_extension": ".py",
   "mimetype": "text/x-python",
   "name": "python",
   "nbconvert_exporter": "python",
   "pygments_lexer": "ipython3",
   "version": "3.9.7"
  }
 },
 "nbformat": 4,
 "nbformat_minor": 5
}
