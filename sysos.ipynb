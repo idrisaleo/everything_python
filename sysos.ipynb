{
 "cells": [
  {
   "cell_type": "code",
   "execution_count": 27,
   "id": "d6ffe08b",
   "metadata": {},
   "outputs": [
    {
     "ename": "IndentationError",
     "evalue": "expected an indented block (Temp/ipykernel_13800/1830509410.py, line 15)",
     "output_type": "error",
     "traceback": [
      "\u001b[1;36m  File \u001b[1;32m\"C:\\Users\\IDRISI~1\\AppData\\Local\\Temp/ipykernel_13800/1830509410.py\"\u001b[1;36m, line \u001b[1;32m15\u001b[0m\n\u001b[1;33m    else:\u001b[0m\n\u001b[1;37m    ^\u001b[0m\n\u001b[1;31mIndentationError\u001b[0m\u001b[1;31m:\u001b[0m expected an indented block\n"
     ]
    }
   ],
   "source": [
    "import sys\n",
    "import os\n",
    "from PIL import Image\n",
    "\n",
    "path = \"C:‪/Users/Idris Idris/Desktop/\"\n",
    "new_directory = \"C:‪/Users/Idris Idris/Desktop/New/\"\n",
    "\n",
    "def directory():\n",
    "    if not os.path.exists(new_directory):\n",
    "        os.mkdir(new_directory)\n",
    "        try:\n",
    "            if new_directory:\n",
    "                print('here it is')\n",
    "        except FileNotFoundError:\n",
    "    else:\n",
    "print(f'{new_directory} already exists')"
   ]
  },
  {
   "cell_type": "code",
   "execution_count": 15,
   "id": "912c1c04",
   "metadata": {},
   "outputs": [
    {
     "name": "stdout",
     "output_type": "stream",
     "text": [
      "<PIL.PngImagePlugin.PngImageFile image mode=RGBA size=215x215 at 0x2799E98DF10>\n"
     ]
    }
   ],
   "source": [
    "from PIL import Image\n",
    "\n",
    "img = Image.open('/pokedex/alli.png')\n",
    "\n",
    "print(img)"
   ]
  },
  {
   "cell_type": "code",
   "execution_count": 10,
   "id": "c57181d5",
   "metadata": {},
   "outputs": [],
   "source": [
    "parent_dir = \"D:/Pycharm projects/\""
   ]
  },
  {
   "cell_type": "code",
   "execution_count": 17,
   "id": "15fbafa7",
   "metadata": {},
   "outputs": [
    {
     "name": "stdout",
     "output_type": "stream",
     "text": [
      "‪C:/Users/Idris Idris/Desktop/\n"
     ]
    }
   ],
   "source": []
  },
  {
   "cell_type": "code",
   "execution_count": null,
   "id": "9bcb4265",
   "metadata": {},
   "outputs": [],
   "source": []
  }
 ],
 "metadata": {
  "kernelspec": {
   "display_name": "Python 3 (ipykernel)",
   "language": "python",
   "name": "python3"
  },
  "language_info": {
   "codemirror_mode": {
    "name": "ipython",
    "version": 3
   },
   "file_extension": ".py",
   "mimetype": "text/x-python",
   "name": "python",
   "nbconvert_exporter": "python",
   "pygments_lexer": "ipython3",
   "version": "3.9.7"
  }
 },
 "nbformat": 4,
 "nbformat_minor": 5
}
