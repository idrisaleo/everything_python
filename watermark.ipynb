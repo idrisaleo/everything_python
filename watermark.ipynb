{
 "cells": [
  {
   "cell_type": "code",
   "execution_count": null,
   "id": "7a91f82f-4b0d-4843-bd26-9821925219f5",
   "metadata": {},
   "outputs": [],
   "source": [
    "import PyPDF2\n",
    "\n",
    "\n",
    "tempor = PyPDF2.PdfFileReader(open('super.pdf', 'rb'))\n",
    "waa = PyPDF2.PdfFileReader(open('wtr.pdf', 'rb'))\n",
    "out = PyPDF2.PdfFileWriter() \n",
    "\n",
    "for i in range(tempor.getNumPages()):\n",
    "\tpaging = tempor.getPage(i)\n",
    "\tpaging.mergePage(waa.getPage(0))\n",
    "\toutput.addPage(paging)\n",
    "\n",
    "\twith open('merging_merger.pdf', 'wb') as file_new:\n",
    "\t\toutput.write(file_new)\n",
    "\n",
    "\n",
    "\n"
   ]
  }
 ],
 "metadata": {
  "kernelspec": {
   "display_name": "Python 3 (ipykernel)",
   "language": "python",
   "name": "python3"
  },
  "language_info": {
   "codemirror_mode": {
    "name": "ipython",
    "version": 3
   },
   "file_extension": ".py",
   "mimetype": "text/x-python",
   "name": "python",
   "nbconvert_exporter": "python",
   "pygments_lexer": "ipython3",
   "version": "3.9.7"
  }
 },
 "nbformat": 4,
 "nbformat_minor": 5
}
