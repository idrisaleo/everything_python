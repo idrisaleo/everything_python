{
 "cells": [
  {
   "cell_type": "code",
   "execution_count": 3,
   "id": "a7f12ee5",
   "metadata": {},
   "outputs": [
    {
     "name": "stdout",
     "output_type": "stream",
     "text": [
      "True\n"
     ]
    }
   ],
   "source": [
    "from collections import OrderedDict\n",
    "\n",
    "data = OrderedDict()\n",
    "data['a'] = 1\n",
    "data['b'] = 2\n",
    "data['c'] = 3\n",
    "\n",
    "data2 = OrderedDict()\n",
    "data2['a'] = 1\n",
    "data2['b'] = 2\n",
    "data2['c'] = 3\n",
    "\n",
    "print(data == data2)"
   ]
  },
  {
   "cell_type": "code",
   "execution_count": 23,
   "id": "cc54cd06",
   "metadata": {},
   "outputs": [
    {
     "name": "stdout",
     "output_type": "stream",
     "text": [
      "dict_items([((2, 3, 4), 50), ('bode', 30)])\n"
     ]
    }
   ],
   "source": [
    "dict_sim = {(2,3,4):50, 'bode':30}\n",
    "print(dict_sim.items())"
   ]
  },
  {
   "cell_type": "code",
   "execution_count": null,
   "id": "c9ac0170",
   "metadata": {},
   "outputs": [],
   "source": []
  },
  {
   "cell_type": "code",
   "execution_count": null,
   "id": "111e713e",
   "metadata": {},
   "outputs": [],
   "source": []
  }
 ],
 "metadata": {
  "kernelspec": {
   "display_name": "Python 3 (ipykernel)",
   "language": "python",
   "name": "python3"
  },
  "language_info": {
   "codemirror_mode": {
    "name": "ipython",
    "version": 3
   },
   "file_extension": ".py",
   "mimetype": "text/x-python",
   "name": "python",
   "nbconvert_exporter": "python",
   "pygments_lexer": "ipython3",
   "version": "3.9.7"
  }
 },
 "nbformat": 4,
 "nbformat_minor": 5
}
