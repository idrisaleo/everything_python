{
 "cells": [
  {
   "cell_type": "raw",
   "id": "6b29e014",
   "metadata": {},
   "source": [
    "### Higher Order Function: is a func that accepts other func as a parameter or returns a func.\n",
    "\n",
    "def bat(baby_bat):\n",
    "    return baby_bat\n",
    "\n",
    "def step():\n",
    "    def level():\n",
    "        return 5\n",
    "    return level\n",
    "\n",
    "step()\n"
   ]
  },
  {
   "cell_type": "code",
   "execution_count": null,
   "id": "cfbb3e93",
   "metadata": {},
   "outputs": [],
   "source": []
  }
 ],
 "metadata": {
  "kernelspec": {
   "display_name": "Python 3 (ipykernel)",
   "language": "python",
   "name": "python3"
  },
  "language_info": {
   "codemirror_mode": {
    "name": "ipython",
    "version": 3
   },
   "file_extension": ".py",
   "mimetype": "text/x-python",
   "name": "python",
   "nbconvert_exporter": "python",
   "pygments_lexer": "ipython3",
   "version": "3.9.7"
  }
 },
 "nbformat": 4,
 "nbformat_minor": 5
}
