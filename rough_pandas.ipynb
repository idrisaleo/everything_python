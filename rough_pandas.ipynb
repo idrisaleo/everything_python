{
 "cells": [
  {
   "cell_type": "code",
   "execution_count": 9,
   "id": "5b596cf2",
   "metadata": {},
   "outputs": [
    {
     "data": {
      "text/html": [
       "<div>\n",
       "<style scoped>\n",
       "    .dataframe tbody tr th:only-of-type {\n",
       "        vertical-align: middle;\n",
       "    }\n",
       "\n",
       "    .dataframe tbody tr th {\n",
       "        vertical-align: top;\n",
       "    }\n",
       "\n",
       "    .dataframe thead th {\n",
       "        text-align: right;\n",
       "    }\n",
       "</style>\n",
       "<table border=\"1\" class=\"dataframe\">\n",
       "  <thead>\n",
       "    <tr style=\"text-align: right;\">\n",
       "      <th></th>\n",
       "      <th>AREA</th>\n",
       "      <th>PERIMETER</th>\n",
       "      <th>Class</th>\n",
       "    </tr>\n",
       "  </thead>\n",
       "  <tbody>\n",
       "    <tr>\n",
       "      <th>0</th>\n",
       "      <td>422163</td>\n",
       "      <td>2378,908</td>\n",
       "      <td>BERHI</td>\n",
       "    </tr>\n",
       "    <tr>\n",
       "      <th>1</th>\n",
       "      <td>338136</td>\n",
       "      <td>2085,144</td>\n",
       "      <td>BERHI</td>\n",
       "    </tr>\n",
       "    <tr>\n",
       "      <th>2</th>\n",
       "      <td>526843</td>\n",
       "      <td>2647,394</td>\n",
       "      <td>BERHI</td>\n",
       "    </tr>\n",
       "    <tr>\n",
       "      <th>3</th>\n",
       "      <td>416063</td>\n",
       "      <td>2351,21</td>\n",
       "      <td>BERHI</td>\n",
       "    </tr>\n",
       "    <tr>\n",
       "      <th>4</th>\n",
       "      <td>347562</td>\n",
       "      <td>2160,354</td>\n",
       "      <td>BERHI</td>\n",
       "    </tr>\n",
       "  </tbody>\n",
       "</table>\n",
       "</div>"
      ],
      "text/plain": [
       "     AREA PERIMETER  Class\n",
       "0  422163  2378,908  BERHI\n",
       "1  338136  2085,144  BERHI\n",
       "2  526843  2647,394  BERHI\n",
       "3  416063   2351,21  BERHI\n",
       "4  347562  2160,354  BERHI"
      ]
     },
     "execution_count": 9,
     "metadata": {},
     "output_type": "execute_result"
    },
    {
     "data": {
      "image/png": "[encoded data removed]",
      "text/plain": [
       "<Figure size 432x288 with 1 Axes>"
      ]
     },
     "metadata": {
      "needs_background": "light"
     },
     "output_type": "display_data"
    }
   ],
   "source": [
    "import pandas as pd\n",
    "import matplotlib.pyplot as plt\n",
    "dates = pd.read_csv('./documents/Date.csv', sep='|', names=['col1'])\n",
    "datess = dates.col1.str.split(';', expand=True) ## split column one\n",
    "#first_last['first_name'] = first_last['String'].str.split(\" \", expand=True)[0] ## split this and return the 1st index\n",
    "#first_last['last_name'] = first_last['String'].str.rsplit(\" \", expand=True)[1] ## split and give me the second index \n",
    "datess.columns = datess.iloc[0] ## make iloc 0 to be my column\n",
    "dates = datess.drop(datess.index[0]) ## drop the redundant column idx\n",
    "dates_columns = dates[['AREA', 'PERIMETER', 'Class']]\n",
    "\n",
    "dates_columns.plot.scatter(x='Class', y='PERIMETER')\n",
    "\n",
    "\n",
    "\n",
    "dates_save = dates_columns.to_excel('dates_save.xlsx', sheet_name='dates_save', index=False)\n",
    "dates_newly_read = pd.read_excel('dates_save.xlsx', sheet_name='dates_save')\n",
    "dates_newly_read.head()\n",
    "\n",
    "\n",
    "\n"
   ]
  },
  {
   "cell_type": "code",
   "execution_count": 21,
   "id": "026f33e3",
   "metadata": {},
   "outputs": [
    {
     "data": {
      "text/html": [
       "<div>\n",
       "<style scoped>\n",
       "    .dataframe tbody tr th:only-of-type {\n",
       "        vertical-align: middle;\n",
       "    }\n",
       "\n",
       "    .dataframe tbody tr th {\n",
       "        vertical-align: top;\n",
       "    }\n",
       "\n",
       "    .dataframe thead th {\n",
       "        text-align: right;\n",
       "    }\n",
       "</style>\n",
       "<table border=\"1\" class=\"dataframe\">\n",
       "  <thead>\n",
       "    <tr style=\"text-align: right;\">\n",
       "      <th></th>\n",
       "      <th>COLUMN_NAME</th>\n",
       "      <th>VALUES</th>\n",
       "    </tr>\n",
       "  </thead>\n",
       "  <tbody>\n",
       "    <tr>\n",
       "      <th>0</th>\n",
       "      <td>zero</td>\n",
       "      <td>0</td>\n",
       "    </tr>\n",
       "    <tr>\n",
       "      <th>1</th>\n",
       "      <td>one</td>\n",
       "      <td>1</td>\n",
       "    </tr>\n",
       "    <tr>\n",
       "      <th>2</th>\n",
       "      <td>two</td>\n",
       "      <td>2</td>\n",
       "    </tr>\n",
       "    <tr>\n",
       "      <th>3</th>\n",
       "      <td>three</td>\n",
       "      <td>3</td>\n",
       "    </tr>\n",
       "    <tr>\n",
       "      <th>4</th>\n",
       "      <td>four</td>\n",
       "      <td>4</td>\n",
       "    </tr>\n",
       "  </tbody>\n",
       "</table>\n",
       "</div>"
      ],
      "text/plain": [
       "  COLUMN_NAME  VALUES\n",
       "0        zero       0\n",
       "1         one       1\n",
       "2         two       2\n",
       "3       three       3\n",
       "4        four       4"
      ]
     },
     "execution_count": 21,
     "metadata": {},
     "output_type": "execute_result"
    }
   ],
   "source": [
    "import numpy as np\n",
    "letters = pd.DataFrame({'column_name':['zero', 'one', 'two', 'three', 'four'], 'values': np.arange(5)})\n",
    "letters.rename(columns= str.upper)"
   ]
  },
  {
   "cell_type": "code",
   "execution_count": 38,
   "id": "2bdedb49",
   "metadata": {},
   "outputs": [
    {
     "data": {
      "text/plain": [
       "3"
      ]
     },
     "execution_count": 38,
     "metadata": {},
     "output_type": "execute_result"
    }
   ],
   "source": [
    "gen = np.random.default_rng(10)\n",
    "gen_big = gen.integers(100, size=(2,4,3)) \n",
    "## two dimensional array\n",
    "## has to have 4 elements each\n",
    "## each 4 elements must contain 3 elements\n",
    "\n"
   ]
  },
  {
   "cell_type": "code",
   "execution_count": 98,
   "id": "7a8afb0b",
   "metadata": {},
   "outputs": [
    {
     "data": {
      "text/plain": [
       "0    0\n",
       "1    1\n",
       "2    2\n",
       "3    3\n",
       "4    4\n",
       "5    5\n",
       "6    6\n",
       "7    7\n",
       "Name: range_nums, dtype: int32"
      ]
     },
     "execution_count": 98,
     "metadata": {},
     "output_type": "execute_result"
    }
   ],
   "source": [
    "one_rands = pd.DataFrame({'multiple_ones': [1] * 8, \n",
    "             'range_nums': np.arange(8)})\n",
    "\n",
    "#one_rands\n",
    "exe_loc = one_rands.loc[one_rands['multiple_ones']==1, 'range_nums']\n",
    "exe_loc\n",
    "\n"
   ]
  },
  {
   "cell_type": "code",
   "execution_count": 106,
   "id": "dfc71ed8",
   "metadata": {},
   "outputs": [
    {
     "data": {
      "text/plain": [
       "'AC Milan'"
      ]
     },
     "execution_count": 106,
     "metadata": {},
     "output_type": "execute_result"
    }
   ],
   "source": [
    "five_fav_teams = pd.DataFrame({'gap_of_five': np.linspace(0, 10, 5, dtype=int),\n",
    "             'fav_teams': ['AFC Leopards', 'Simba', 'Kaizer Chiefs', 'Kwara United', 'AC Milan']}) ## linspace means from zero to ten with the total outcome being 5\n",
    "fa = five_fav_teams.loc[five_fav_teams['gap_of_five']==5, 'fav_teams']\n",
    "\n",
    "most_fav = five_fav_teams.iloc[4, 1]\n",
    "most_fav\n",
    "\n"
   ]
  },
  {
   "cell_type": "code",
   "execution_count": null,
   "id": "4379e6b7",
   "metadata": {},
   "outputs": [],
   "source": [
    "pd.pivot_table(tips, values=\"tip\", index=[\"size\"], columns=[\"sex\"], aggfunc=np.average) ## \n",
    "## dataframe.replace('sim', 'simple')\n"
   ]
  }
 ],
 "metadata": {
  "kernelspec": {
   "display_name": "Python 3 (ipykernel)",
   "language": "python",
   "name": "python3"
  },
  "language_info": {
   "codemirror_mode": {
    "name": "ipython",
    "version": 3
   },
   "file_extension": ".py",
   "mimetype": "text/x-python",
   "name": "python",
   "nbconvert_exporter": "python",
   "pygments_lexer": "ipython3",
   "version": "3.9.7"
  }
 },
 "nbformat": 4,
 "nbformat_minor": 5
}
