{
 "cells": [
  {
   "cell_type": "code",
   "execution_count": 1,
   "id": "11aea9c1",
   "metadata": {},
   "outputs": [
    {
     "name": "stdout",
     "output_type": "stream",
     "text": [
      "Counter({3: 7, 2: 4, 6: 4, 4: 3, 5: 3, 7: 2})\n"
     ]
    }
   ],
   "source": [
    "from collections import OrderedDict, defaultdict, Counter\n",
    "\n",
    "list_count = [2,3,4,5,6,5,6,6,7,7,2,2,2,3,3,3,3,3,3,4,4,5,6]\n",
    "\n",
    "print(Counter(list_count)) ## allows you to count the number of occurences in a given list. It does that in the form of dict\n"
   ]
  },
  {
   "cell_type": "code",
   "execution_count": 22,
   "id": "c5aebcfb",
   "metadata": {},
   "outputs": [
    {
     "name": "stdout",
     "output_type": "stream",
     "text": [
      "has got no titles\n"
     ]
    }
   ],
   "source": [
    "dictionary = defaultdict(lambda: 'has got no titles', {'milan':18, 'inter':19, 'juventus':33, 'napoli':2}) ## use lambda or \n",
    "## any data type to represent what your default value will be. \n",
    "\n",
    "print(dictionary['roma'])"
   ]
  },
  {
   "cell_type": "code",
   "execution_count": 111,
   "id": "f18300dd",
   "metadata": {},
   "outputs": [
    {
     "name": "stdout",
     "output_type": "stream",
     "text": [
      "False\n"
     ]
    }
   ],
   "source": [
    "from collections import OrderedDict\n",
    "\n",
    "data = OrderedDict()\n",
    "data['a'] = 1\n",
    "data['b'] = 2\n",
    "data['c'] = 3\n",
    "\n",
    "data2 = OrderedDict()\n",
    "data2['a'] = 1            ##typically dict are unordered, but with OrderedDict, you can structure them however u want.\n",
    "data2['c'] = 3\n",
    "data2['b'] = 2\n",
    "\n",
    "print(data == data2)"
   ]
  },
  {
   "cell_type": "code",
   "execution_count": null,
   "id": "9af07c07",
   "metadata": {},
   "outputs": [],
   "source": []
  }
 ],
 "metadata": {
  "kernelspec": {
   "display_name": "Python 3 (ipykernel)",
   "language": "python",
   "name": "python3"
  },
  "language_info": {
   "codemirror_mode": {
    "name": "ipython",
    "version": 3
   },
   "file_extension": ".py",
   "mimetype": "text/x-python",
   "name": "python",
   "nbconvert_exporter": "python",
   "pygments_lexer": "ipython3",
   "version": "3.9.7"
  }
 },
 "nbformat": 4,
 "nbformat_minor": 5
}
