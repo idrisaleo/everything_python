{
 "cells": [
  {
   "cell_type": "code",
   "execution_count": 5,
   "id": "c177cd17",
   "metadata": {},
   "outputs": [
    {
     "data": {
      "text/plain": [
       "<AxesSubplot:>"
      ]
     },
     "execution_count": 5,
     "metadata": {},
     "output_type": "execute_result"
    },
    {
     "data": {
      "image/png": "[encoded data removed]",
      "text/plain": [
       "<Figure size 432x288 with 1 Axes>"
      ]
     },
     "metadata": {
      "needs_background": "light"
     },
     "output_type": "display_data"
    }
   ],
   "source": [
    "import pandas as pd\n",
    "import matplotlib.pyplot as plt\n",
    "shootings = pd.read_csv('./documents/shootings.csv', parse_dates=True)\n",
    "shootings_renamed = shootings.rename(columns={'City Or County': 'City', \n",
    "                                               '# Killed': 'Deaths',\n",
    "                                               '# Injured': 'Injured',\n",
    "                                               'Incident Date': 'Date'})\n",
    "\n",
    "shootings_column_use = shootings_renamed[['Date', 'State', 'City', 'Deaths', 'Injured']]\n",
    "total_deaths_injuries = shootings_column_use[['Deaths', 'Injured']].sum()\n",
    "\n",
    "total_deaths_injuries.plot.bar()\n",
    "\n"
   ]
  },
  {
   "cell_type": "code",
   "execution_count": null,
   "id": "2e77b226",
   "metadata": {},
   "outputs": [],
   "source": []
  }
 ],
 "metadata": {
  "kernelspec": {
   "display_name": "Python 3 (ipykernel)",
   "language": "python",
   "name": "python3"
  },
  "language_info": {
   "codemirror_mode": {
    "name": "ipython",
    "version": 3
   },
   "file_extension": ".py",
   "mimetype": "text/x-python",
   "name": "python",
   "nbconvert_exporter": "python",
   "pygments_lexer": "ipython3",
   "version": "3.9.7"
  }
 },
 "nbformat": 4,
 "nbformat_minor": 5
}
