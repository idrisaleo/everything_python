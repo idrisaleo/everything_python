{
 "cells": [
  {
   "cell_type": "code",
   "execution_count": null,
   "id": "098af815",
   "metadata": {},
   "outputs": [
    {
     "name": "stdout",
     "output_type": "stream",
     "text": [
      "> \u001b[1;32mc:\\users\\idrisi~1\\appdata\\local\\temp\\ipykernel_13160\\682601237.py\u001b[0m(7)\u001b[0;36maddition\u001b[1;34m()\u001b[0m\n",
      "\n",
      "ipdb> rtr\n",
      "*** NameError: name 'rtr' is not defined\n",
      "ipdb> 4\n",
      "4\n",
      "ipdb> 4\n",
      "4\n",
      "ipdb> 343\n",
      "343\n"
     ]
    }
   ],
   "source": [
    "pdb.set_trace\n",
    "\n",
    "import pdb\n",
    "\n",
    "def addition(a,b):\n",
    "  pdb.set_trace()\n",
    "  return a + b\n",
    "\n",
    "cal = addition(2, 'dfdfdf')\n",
    "\n",
    "print(cal)\n",
    "\n",
    "#w = current line\n",
    "#step that allows you to check through the next line\n",
    "#list, help"
   ]
  },
  {
   "cell_type": "code",
   "execution_count": null,
   "id": "908bc6da",
   "metadata": {},
   "outputs": [],
   "source": []
  }
 ],
 "metadata": {
  "kernelspec": {
   "display_name": "Python 3 (ipykernel)",
   "language": "python",
   "name": "python3"
  },
  "language_info": {
   "codemirror_mode": {
    "name": "ipython",
    "version": 3
   },
   "file_extension": ".py",
   "mimetype": "text/x-python",
   "name": "python",
   "nbconvert_exporter": "python",
   "pygments_lexer": "ipython3",
   "version": "3.9.7"
  }
 },
 "nbformat": 4,
 "nbformat_minor": 5
}
