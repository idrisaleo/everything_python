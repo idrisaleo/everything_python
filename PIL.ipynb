{
 "cells": [
  {
   "cell_type": "code",
   "execution_count": 4,
   "id": "9e56220c",
   "metadata": {},
   "outputs": [
    {
     "name": "stdout",
     "output_type": "stream",
     "text": [
      "<PIL.Image.Image image mode=RGB size=948x536 at 0x177B7BFD910>\n"
     ]
    }
   ],
   "source": [
    "from PIL import Image, ImageFilter\n",
    "\n",
    "img = Image.open('/pokedex/havertz.jpg')\n",
    "\n",
    "img_details = img.filter(ImageFilter.BLUR)\n",
    "\n",
    "img_details.save('blurry_havertz.png', 'png')\n",
    "\n",
    "print(img_details)"
   ]
  },
  {
   "cell_type": "code",
   "execution_count": 1,
   "id": "7b09fa93",
   "metadata": {},
   "outputs": [
    {
     "ename": "FileNotFoundError",
     "evalue": "[WinError 3] The system cannot find the path specified: '-f'",
     "output_type": "error",
     "traceback": [
      "\u001b[1;31m---------------------------------------------------------------------------\u001b[0m",
      "\u001b[1;31mFileNotFoundError\u001b[0m                         Traceback (most recent call last)",
      "\u001b[1;32mC:\\Users\\IDRISI~1\\AppData\\Local\\Temp/ipykernel_12372/3637413176.py\u001b[0m in \u001b[0;36m<module>\u001b[1;34m\u001b[0m\n\u001b[0;32m     11\u001b[0m \u001b[1;33m\u001b[0m\u001b[0m\n\u001b[0;32m     12\u001b[0m \u001b[1;33m\u001b[0m\u001b[0m\n\u001b[1;32m---> 13\u001b[1;33m \u001b[1;32mfor\u001b[0m \u001b[0mfile_name\u001b[0m \u001b[1;32min\u001b[0m \u001b[0mos\u001b[0m\u001b[1;33m.\u001b[0m\u001b[0mlistdir\u001b[0m\u001b[1;33m(\u001b[0m\u001b[0mimage_folder\u001b[0m\u001b[1;33m)\u001b[0m\u001b[1;33m:\u001b[0m\u001b[1;33m\u001b[0m\u001b[1;33m\u001b[0m\u001b[0m\n\u001b[0m\u001b[0;32m     14\u001b[0m         \u001b[0mall_image\u001b[0m \u001b[1;33m=\u001b[0m \u001b[0mImage\u001b[0m\u001b[1;33m.\u001b[0m\u001b[0mopen\u001b[0m\u001b[1;33m(\u001b[0m\u001b[1;34mf'{image_folder}{file_name}'\u001b[0m\u001b[1;33m)\u001b[0m\u001b[1;33m\u001b[0m\u001b[1;33m\u001b[0m\u001b[0m\n\u001b[0;32m     15\u001b[0m         \u001b[0mclean_name\u001b[0m \u001b[1;33m=\u001b[0m \u001b[0mos\u001b[0m\u001b[1;33m.\u001b[0m\u001b[0mpath\u001b[0m\u001b[1;33m.\u001b[0m\u001b[0msplitext\u001b[0m\u001b[1;33m(\u001b[0m\u001b[0mfile_name\u001b[0m\u001b[1;33m)\u001b[0m\u001b[1;33m[\u001b[0m\u001b[1;36m0\u001b[0m\u001b[1;33m]\u001b[0m\u001b[1;33m\u001b[0m\u001b[1;33m\u001b[0m\u001b[0m\n",
      "\u001b[1;31mFileNotFoundError\u001b[0m: [WinError 3] The system cannot find the path specified: '-f'"
     ]
    }
   ],
   "source": [
    "\n",
    "## First Project with CMD Prompt\n",
    "\n",
    "import sys\n",
    "import os\n",
    "from PIL import Image\n",
    "\n",
    "image_folder = simport sys\n",
    "import os\n",
    "from PIL import Image\n",
    "\n",
    "image_folder = sys.argv[1]\n",
    "output_folder = sys.argv[2]\n",
    "\n",
    "\n",
    "if not os.path.exists(output_folder):\n",
    "\tos.makedirs(output_folder)\n",
    "\n",
    "\n",
    "for file_name in os.listdir(image_folder):\n",
    "\tall_image = Image.open(f'{image_folder}{file_name}')\n",
    "\tclean_name = os.path.splitext(file_name)[0]\n",
    "\tresize = all_image.resize((300, 300))\n",
    "\tresize.save(f'{output_folder}{clean_name}.png', 'png')\n",
    "\n",
    "\n",
    "\n",
    "\n",
    "\n"
   ]
  },
  {
   "cell_type": "code",
   "execution_count": null,
   "id": "40391515",
   "metadata": {},
   "outputs": [],
   "source": [
    "from PIL import Image, ImageFilter, ImageOps\n",
    "\n",
    "img = Image.open('/pokedex/havertz.jpg')\n",
    "\n",
    "img_details = img.filter(ImageFilter.DETAIL)\n",
    "\n",
    "#print(img_details)\n",
    "\n",
    "\n",
    "img_convert = img_details.convert('L')\n",
    "img_convert.save('havertz_grey.png', 'png')\n",
    "#print(img_convert)\n",
    "\n",
    "rotate = img_convert.rotate(120)\n",
    "rotate.save('ha_rotate.png', 'png')\n",
    "\n",
    "\n",
    "resize = img_convert.resize((150, 150))\n",
    "resize.save('small_havertz.png', 'png')\n",
    "\n",
    "\n",
    "box = (50, 50, 200, 200)\n",
    "cropp = img_convert.crop(box)\n",
    "cropp.save('cropped.png', 'png')"
   ]
  },
  {
   "cell_type": "code",
   "execution_count": 7,
   "id": "91662cdf",
   "metadata": {},
   "outputs": [
    {
     "ename": "IndentationError",
     "evalue": "unindent does not match any outer indentation level (<tokenize>, line 7)",
     "output_type": "error",
     "traceback": [
      "\u001b[1;36m  File \u001b[1;32m\"<tokenize>\"\u001b[1;36m, line \u001b[1;32m7\u001b[0m\n\u001b[1;33m    writer = PyPDF2.PdfFileWriter()\u001b[0m\n\u001b[1;37m    ^\u001b[0m\n\u001b[1;31mIndentationError\u001b[0m\u001b[1;31m:\u001b[0m unindent does not match any outer indentation level\n"
     ]
    }
   ],
   "source": [
    "\n",
    "import PyPDF2\n",
    "\n",
    "with open('cv.pdf', 'rb') as file:\n",
    "\treader = PyPDF2.PdfFileReader(file)\n",
    "\tpage = reader.getPage(0)\n",
    "\trotated = page.rotateCounterClockwise(90)\n",
    "    writer = PyPDF2.PdfFileWriter()\n",
    "    writer.addpage(rotated)\n",
    "    with open('tilt.pdf', 'wb') as new_file:\n",
    "        writer.write(new_file)\n",
    "\n",
    "\n",
    "        "
   ]
  },
  {
   "cell_type": "code",
   "execution_count": null,
   "id": "84a8c2e3",
   "metadata": {},
   "outputs": [],
   "source": []
  }
 ],
 "metadata": {
  "kernelspec": {
   "display_name": "Python 3 (ipykernel)",
   "language": "python",
   "name": "python3"
  },
  "language_info": {
   "codemirror_mode": {
    "name": "ipython",
    "version": 3
   },
   "file_extension": ".py",
   "mimetype": "text/x-python",
   "name": "python",
   "nbconvert_exporter": "python",
   "pygments_lexer": "ipython3",
   "version": "3.9.7"
  }
 },
 "nbformat": 4,
 "nbformat_minor": 5
}
