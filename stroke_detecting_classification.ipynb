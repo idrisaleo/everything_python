{
 "cells": [
  {
   "cell_type": "code",
   "execution_count": 49,
   "id": "5919e758",
   "metadata": {},
   "outputs": [
    {
     "data": {
      "text/plain": [
       "(4909, 12)"
      ]
     },
     "execution_count": 49,
     "metadata": {},
     "output_type": "execute_result"
    }
   ],
   "source": [
    "## importing the data\n",
    "\n",
    "import pandas as pd\n",
    "stroke = pd.read_csv('healthcare-dataset-stroke-data.csv')\n",
    "\n",
    "## checking for missing values\n",
    "stroke.isna().sum()\n",
    "## decided to drop the missing values\n",
    "stroke.dropna(inplace=True)\n",
    "## rechecking for the missing values\n",
    "stroke.isna().sum()\n",
    "## looking at the new shape of my data\n",
    "stroke.shape"
   ]
  },
  {
   "cell_type": "code",
   "execution_count": 13,
   "id": "681b6c95",
   "metadata": {},
   "outputs": [],
   "source": [
    "## decided to rename one of the columns wrongly spelt\n",
    "stroke.rename(columns=str.lower, inplace=True)"
   ]
  },
  {
   "cell_type": "code",
   "execution_count": 34,
   "id": "c298c8c9",
   "metadata": {},
   "outputs": [],
   "source": [
    "## prepping my data into features and labels\n",
    "X = stroke.drop('stroke', axis=1)\n",
    "y = stroke['stroke']"
   ]
  },
  {
   "cell_type": "code",
   "execution_count": 35,
   "id": "b3a5683c",
   "metadata": {},
   "outputs": [],
   "source": [
    "## importing columntransformer and OneHotEncoder for easy conversion of strings to number\n",
    "from sklearn.compose import ColumnTransformer\n",
    "from sklearn.preprocessing import OneHotEncoder\n",
    "\n",
    "## outlining the columns I would want transformed\n",
    "ini_features = ['gender', 'ever_married', 'work_type', 'residence_type', 'smoking_status']\n",
    "## instatiating my onehotencoder\n",
    "OneHot = OneHotEncoder()\n",
    "## instatiating my columntransformer, passing others unneeded varables as passthrough\n",
    "transform = ColumnTransformer([('OneHot', OneHot, ini_features)], remainder='passthrough')\n",
    "##finally fitting my features var (X) into a fully transformed var. Need this for the outlined var to know where to inherit from.\n",
    "transformed_X = transform.fit_transform(X) \n",
    "\n",
    "\n",
    "\n"
   ]
  },
  {
   "cell_type": "code",
   "execution_count": 37,
   "id": "b9dc7aca",
   "metadata": {},
   "outputs": [],
   "source": [
    "## further splitting of the feature and label into train and test\n",
    "\n",
    "from sklearn.model_selection import train_test_split\n",
    "\n",
    "X_train, X_test, y_train, y_test = train_test_split(transformed_X, y, test_size=0.2) "
   ]
  },
  {
   "cell_type": "code",
   "execution_count": 61,
   "id": "21f0ad5d",
   "metadata": {},
   "outputs": [
    {
     "data": {
      "text/plain": [
       "0.9582484725050916"
      ]
     },
     "execution_count": 61,
     "metadata": {},
     "output_type": "execute_result"
    }
   ],
   "source": [
    "## finally fitting the model and checking out the score............\n",
    "from sklearn.ensemble import RandomForestClassifier\n",
    "import numpy as np\n",
    "np.random.seed(0)\n",
    "clf = RandomForestClassifier()\n",
    "clf.fit(X_train, y_train)\n",
    "clf.score(X_test, y_test)"
   ]
  },
  {
   "cell_type": "code",
   "execution_count": 50,
   "id": "ab0c2895",
   "metadata": {},
   "outputs": [],
   "source": [
    "## another way to look at this is compare the y_preds and y_test\n",
    "clf.fit(X_train, y_train)\n",
    "y_preds = clf.predict(X_test)\n",
    "#y_preds"
   ]
  },
  {
   "cell_type": "code",
   "execution_count": 43,
   "id": "0f5e537e",
   "metadata": {},
   "outputs": [
    {
     "name": "stdout",
     "output_type": "stream",
     "text": [
      "              precision    recall  f1-score   support\n",
      "\n",
      "           0       1.00      0.96      0.98       980\n",
      "           1       0.00      0.00      0.00         2\n",
      "\n",
      "    accuracy                           0.96       982\n",
      "   macro avg       0.50      0.48      0.49       982\n",
      "weighted avg       1.00      0.96      0.98       982\n",
      "\n"
     ]
    }
   ],
   "source": [
    "## further analysis\n",
    "from sklearn.metrics import accuracy_score, confusion_matrix, classification_report\n",
    "print(classification_report(y_preds, y_test))"
   ]
  },
  {
   "cell_type": "code",
   "execution_count": 44,
   "id": "d7db67ed",
   "metadata": {},
   "outputs": [
    {
     "name": "stdout",
     "output_type": "stream",
     "text": [
      "[[941  39]\n",
      " [  2   0]]\n"
     ]
    }
   ],
   "source": [
    "## further analysis\n",
    "print(confusion_matrix(y_preds, y_test))"
   ]
  },
  {
   "cell_type": "code",
   "execution_count": 45,
   "id": "ab4a4149",
   "metadata": {},
   "outputs": [
    {
     "name": "stdout",
     "output_type": "stream",
     "text": [
      "0.9582484725050916\n"
     ]
    }
   ],
   "source": [
    "## further analysis\n",
    "print(accuracy_score(y_preds, y_test))"
   ]
  },
  {
   "cell_type": "code",
   "execution_count": 59,
   "id": "fd21ce6b",
   "metadata": {},
   "outputs": [
    {
     "name": "stdout",
     "output_type": "stream",
     "text": [
      "When estimator is set at 10\n",
      "We get: 94.91%\n",
      "\n",
      "When estimator is set at 20\n",
      "We get: 95.82%\n",
      "\n",
      "When estimator is set at 30\n",
      "We get: 95.82%\n",
      "\n",
      "When estimator is set at 40\n",
      "We get: 95.82%\n",
      "\n",
      "When estimator is set at 50\n",
      "We get: 95.82%\n",
      "\n",
      "When estimator is set at 60\n",
      "We get: 95.62%\n",
      "\n",
      "When estimator is set at 70\n",
      "We get: 95.93%\n",
      "\n",
      "When estimator is set at 80\n",
      "We get: 96.03%\n",
      "\n",
      "When estimator is set at 90\n",
      "We get: 95.82%\n",
      "\n"
     ]
    }
   ],
   "source": [
    "## evaluating and trying to what estimator works best\n",
    "np.random.seed(0)\n",
    "for i in range(10,100,10):\n",
    "    print(f'When estimator is set at {i}')\n",
    "    clf = RandomForestClassifier(n_estimators=i).fit(X_train, y_train)\n",
    "    print(f'We get: {clf.score(X_test, y_test)*100:.2f}%')\n",
    "    print('')"
   ]
  },
  {
   "cell_type": "code",
   "execution_count": 65,
   "id": "b9c064f0",
   "metadata": {},
   "outputs": [],
   "source": [
    "## saving our model for future use\n",
    "import pickle\n",
    "pickle.dump(clf, open('stroke_detector_model.pkl', 'wb'))"
   ]
  },
  {
   "cell_type": "code",
   "execution_count": 67,
   "id": "92bc97e1",
   "metadata": {},
   "outputs": [
    {
     "data": {
      "text/plain": [
       "0.9582484725050916"
      ]
     },
     "execution_count": 67,
     "metadata": {},
     "output_type": "execute_result"
    }
   ],
   "source": [
    "## loading the model\n",
    "loading_model = pickle.load(open('stroke_detector_model.pkl', 'rb'))\n",
    "loading_model.score(X_test, y_test)"
   ]
  },
  {
   "cell_type": "code",
   "execution_count": null,
   "id": "f1c62cae",
   "metadata": {},
   "outputs": [],
   "source": []
  }
 ],
 "metadata": {
  "kernelspec": {
   "display_name": "Python 3 (ipykernel)",
   "language": "python",
   "name": "python3"
  },
  "language_info": {
   "codemirror_mode": {
    "name": "ipython",
    "version": 3
   },
   "file_extension": ".py",
   "mimetype": "text/x-python",
   "name": "python",
   "nbconvert_exporter": "python",
   "pygments_lexer": "ipython3",
   "version": "3.9.12"
  }
 },
 "nbformat": 4,
 "nbformat_minor": 5
}
